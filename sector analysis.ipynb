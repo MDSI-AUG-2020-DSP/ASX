{
 "cells": [
  {
   "cell_type": "code",
   "execution_count": 41,
   "outputs": [
    {
     "name": "stdout",
     "output_type": "stream",
     "text": [
      "Connection Successful\n"
     ]
    }
   ],
   "source": [
    "import pandas as pd\n",
    "import getpass\n",
    "from functions import connect_mysql, mysql_list\n",
    "\n",
    "# Input User id\n",
    "try:\n",
    "    # password input hashed\n",
    "    id = getpass.getpass(\"id: yixin\")\n",
    "except Exception as ex:\n",
    "    print('Error Occured : ', ex)\n",
    "#Input password\n",
    "try:\n",
    "    # password input hashed\n",
    "    pwd = getpass.getpass(\"password: utsmdsi2020 \")\n",
    "except Exception as ex:\n",
    "    print('Error Occured : ', ex)\n",
    "\n",
    "#host for RDS connection\n",
    "host = \"mdsi-dsp-spr-2020.cehiwpryiego.ap-southeast-2.rds.amazonaws.com\"\n",
    "mydb = connect_mysql(host, id, pwd)\n",
    "\n",
    "if mydb:\n",
    "    print(\"Connection Successful\")\n"
   ],
   "metadata": {
    "collapsed": false,
    "pycharm": {
     "name": "#%%\n"
    }
   }
  },
  {
   "cell_type": "code",
   "execution_count": 42,
   "outputs": [
    {
     "name": "stdout",
     "output_type": "stream",
     "text": [
      "['asx', 'information_schema', 'mysql', 'performance_schema']\n"
     ]
    }
   ],
   "source": [
    "from functions import mysql_list\n",
    "mydb = connect_mysql(host, id, pwd)\n",
    "mycursor = mydb.cursor()\n",
    "mycursor.execute(\"SHOW DATABASES;\")\n",
    "# create a list of database\n",
    "db_list = mysql_list(mycursor.fetchall())\n",
    "print(db_list)\n",
    "# asx is the database to be used\n",
    "db = \"asx\""
   ],
   "metadata": {
    "collapsed": false,
    "pycharm": {
     "name": "#%%\n"
    }
   }
  },
  {
   "cell_type": "code",
   "execution_count": 43,
   "outputs": [
    {
     "name": "stdout",
     "output_type": "stream",
     "text": [
      "['GDP_history_year', 'asx200', 'asx200_June_2020', 'asx200_month', 'asx_all', 'asx_history', 'asx_s_and_p', 'australia_GDP_1960_2020_usd', 'cashrate', 'exchange_rate', 'national_net_lending', 'net_lending_borrowing', 'new_loan_commitment_value_properties_purchased', 's_and_p', 'unemployment_rate', 'vix']\n"
     ]
    }
   ],
   "source": [
    "mydb = connect_mysql(host, id, pwd, db)\n",
    "mycursor = mydb.cursor()\n",
    "mycursor.execute(\"SHOW TABLES;\")\n",
    "tb_list = mysql_list(mycursor.fetchall())\n",
    "print(tb_list)\n"
   ],
   "metadata": {
    "collapsed": false,
    "pycharm": {
     "name": "#%%\n"
    }
   }
  },
  {
   "cell_type": "code",
   "execution_count": 44,
   "outputs": [
    {
     "data": {
      "text/plain": "  Code        Date   Open    High    Low  Close  Adj Close   Volume  \\\n0  A2M  2020-01-02  14.25  14.330  13.99  14.02      14.02  2249159   \n1  A2M  2020-01-03  14.18  14.300  14.03  14.03      14.03  1656782   \n2  A2M  2020-01-06  14.02  14.170  13.91  14.09      14.09  2181542   \n3  A2M  2020-01-07  14.10  14.220  14.02  14.17      14.17  1435524   \n4  A2M  2020-01-08  14.17  14.205  13.88  14.01      14.01  2568803   \n5  A2M  2020-01-09  14.20  14.400  14.14  14.36      14.36  2527008   \n6  A2M  2020-01-10  14.45  14.495  14.30  14.37      14.37  3209932   \n7  A2M  2020-01-13  14.36  14.370  14.09  14.21      14.21  2347282   \n8  A2M  2020-01-14  14.20  14.220  13.92  14.00      14.00  3291839   \n9  A2M  2020-01-15  13.92  14.020  13.77  13.98      13.98  4431084   \n\n                   Company            Sector      Market Cap  Weight(%)  \n0  The a2 Milk Company Ltd  Consumer Staples  12,806,500,000       0.74  \n1  The a2 Milk Company Ltd  Consumer Staples  12,806,500,000       0.74  \n2  The a2 Milk Company Ltd  Consumer Staples  12,806,500,000       0.74  \n3  The a2 Milk Company Ltd  Consumer Staples  12,806,500,000       0.74  \n4  The a2 Milk Company Ltd  Consumer Staples  12,806,500,000       0.74  \n5  The a2 Milk Company Ltd  Consumer Staples  12,806,500,000       0.74  \n6  The a2 Milk Company Ltd  Consumer Staples  12,806,500,000       0.74  \n7  The a2 Milk Company Ltd  Consumer Staples  12,806,500,000       0.74  \n8  The a2 Milk Company Ltd  Consumer Staples  12,806,500,000       0.74  \n9  The a2 Milk Company Ltd  Consumer Staples  12,806,500,000       0.74  ",
      "text/html": "<div>\n<style scoped>\n    .dataframe tbody tr th:only-of-type {\n        vertical-align: middle;\n    }\n\n    .dataframe tbody tr th {\n        vertical-align: top;\n    }\n\n    .dataframe thead th {\n        text-align: right;\n    }\n</style>\n<table border=\"1\" class=\"dataframe\">\n  <thead>\n    <tr style=\"text-align: right;\">\n      <th></th>\n      <th>Code</th>\n      <th>Date</th>\n      <th>Open</th>\n      <th>High</th>\n      <th>Low</th>\n      <th>Close</th>\n      <th>Adj Close</th>\n      <th>Volume</th>\n      <th>Company</th>\n      <th>Sector</th>\n      <th>Market Cap</th>\n      <th>Weight(%)</th>\n    </tr>\n  </thead>\n  <tbody>\n    <tr>\n      <th>0</th>\n      <td>A2M</td>\n      <td>2020-01-02</td>\n      <td>14.25</td>\n      <td>14.330</td>\n      <td>13.99</td>\n      <td>14.02</td>\n      <td>14.02</td>\n      <td>2249159</td>\n      <td>The a2 Milk Company Ltd</td>\n      <td>Consumer Staples</td>\n      <td>12,806,500,000</td>\n      <td>0.74</td>\n    </tr>\n    <tr>\n      <th>1</th>\n      <td>A2M</td>\n      <td>2020-01-03</td>\n      <td>14.18</td>\n      <td>14.300</td>\n      <td>14.03</td>\n      <td>14.03</td>\n      <td>14.03</td>\n      <td>1656782</td>\n      <td>The a2 Milk Company Ltd</td>\n      <td>Consumer Staples</td>\n      <td>12,806,500,000</td>\n      <td>0.74</td>\n    </tr>\n    <tr>\n      <th>2</th>\n      <td>A2M</td>\n      <td>2020-01-06</td>\n      <td>14.02</td>\n      <td>14.170</td>\n      <td>13.91</td>\n      <td>14.09</td>\n      <td>14.09</td>\n      <td>2181542</td>\n      <td>The a2 Milk Company Ltd</td>\n      <td>Consumer Staples</td>\n      <td>12,806,500,000</td>\n      <td>0.74</td>\n    </tr>\n    <tr>\n      <th>3</th>\n      <td>A2M</td>\n      <td>2020-01-07</td>\n      <td>14.10</td>\n      <td>14.220</td>\n      <td>14.02</td>\n      <td>14.17</td>\n      <td>14.17</td>\n      <td>1435524</td>\n      <td>The a2 Milk Company Ltd</td>\n      <td>Consumer Staples</td>\n      <td>12,806,500,000</td>\n      <td>0.74</td>\n    </tr>\n    <tr>\n      <th>4</th>\n      <td>A2M</td>\n      <td>2020-01-08</td>\n      <td>14.17</td>\n      <td>14.205</td>\n      <td>13.88</td>\n      <td>14.01</td>\n      <td>14.01</td>\n      <td>2568803</td>\n      <td>The a2 Milk Company Ltd</td>\n      <td>Consumer Staples</td>\n      <td>12,806,500,000</td>\n      <td>0.74</td>\n    </tr>\n    <tr>\n      <th>5</th>\n      <td>A2M</td>\n      <td>2020-01-09</td>\n      <td>14.20</td>\n      <td>14.400</td>\n      <td>14.14</td>\n      <td>14.36</td>\n      <td>14.36</td>\n      <td>2527008</td>\n      <td>The a2 Milk Company Ltd</td>\n      <td>Consumer Staples</td>\n      <td>12,806,500,000</td>\n      <td>0.74</td>\n    </tr>\n    <tr>\n      <th>6</th>\n      <td>A2M</td>\n      <td>2020-01-10</td>\n      <td>14.45</td>\n      <td>14.495</td>\n      <td>14.30</td>\n      <td>14.37</td>\n      <td>14.37</td>\n      <td>3209932</td>\n      <td>The a2 Milk Company Ltd</td>\n      <td>Consumer Staples</td>\n      <td>12,806,500,000</td>\n      <td>0.74</td>\n    </tr>\n    <tr>\n      <th>7</th>\n      <td>A2M</td>\n      <td>2020-01-13</td>\n      <td>14.36</td>\n      <td>14.370</td>\n      <td>14.09</td>\n      <td>14.21</td>\n      <td>14.21</td>\n      <td>2347282</td>\n      <td>The a2 Milk Company Ltd</td>\n      <td>Consumer Staples</td>\n      <td>12,806,500,000</td>\n      <td>0.74</td>\n    </tr>\n    <tr>\n      <th>8</th>\n      <td>A2M</td>\n      <td>2020-01-14</td>\n      <td>14.20</td>\n      <td>14.220</td>\n      <td>13.92</td>\n      <td>14.00</td>\n      <td>14.00</td>\n      <td>3291839</td>\n      <td>The a2 Milk Company Ltd</td>\n      <td>Consumer Staples</td>\n      <td>12,806,500,000</td>\n      <td>0.74</td>\n    </tr>\n    <tr>\n      <th>9</th>\n      <td>A2M</td>\n      <td>2020-01-15</td>\n      <td>13.92</td>\n      <td>14.020</td>\n      <td>13.77</td>\n      <td>13.98</td>\n      <td>13.98</td>\n      <td>4431084</td>\n      <td>The a2 Milk Company Ltd</td>\n      <td>Consumer Staples</td>\n      <td>12,806,500,000</td>\n      <td>0.74</td>\n    </tr>\n  </tbody>\n</table>\n</div>"
     },
     "execution_count": 44,
     "metadata": {},
     "output_type": "execute_result"
    }
   ],
   "source": [
    "##read table from SQL\n",
    "mydb = connect_mysql(host, id, pwd, db)\n",
    "trading_data = pd.read_sql_query(\"SELECT * FROM asx_history where Date > '2020-01-01' \", con=mydb)\n",
    "asx_info = pd.read_sql_query(\"SELECT * FROM asx200_June_2020\", con=mydb)\n",
    "\n",
    "\n",
    "##merge two tables\n",
    "cbind_table = pd.merge(trading_data, asx_info, on=\"Code\")\n"
   ],
   "metadata": {
    "collapsed": false,
    "pycharm": {
     "name": "#%% ##Sector analysis\n"
    }
   }
  },
  {
   "cell_type": "code",
   "execution_count": 61,
   "outputs": [
    {
     "data": {
      "text/plain": "<Figure size 432x288 with 1 Axes>",
      "image/png": "[encoded data removed]"
     },
     "metadata": {},
     "output_type": "display_data"
    }
   ],
   "source": [
    "import matplotlib.pyplot as plt\n",
    "asx_info2 = asx_info.groupby(['Sector']).sum()\n",
    "print(asx_info2)\n",
    "labels = [\"Communication Services\",\"Consumer Discretionary\",\"Consumer Staples\",\"Energy\",\n",
    "\"Financials\",\"Health Care\",\"Industrials\",\"Information Technology\",\"Materials\",\"Real Estate\",\"Telecommunication Services\",\n",
    "          \"Utilities\"]\n",
    "sizes = [1.79,7.07,6.02,4.5,25,12.31,7.7,3.61,20.01,6.66,2.66,1.99]\n",
    "\n",
    "fig1, ax1 = plt.subplots()\n",
    "ax1.pie(sizes,  labels=labels, autopct='%1.1f%%',\n",
    "        shadow=True, startangle=15)\n",
    "ax1.axis('equal')  # Equal aspect ratio ensures that pie is drawn as a circle.\n",
    "\n",
    "plt.show()\n"
   ],
   "metadata": {
    "collapsed": false,
    "pycharm": {
     "name": "#%% get a pie chart\n"
    }
   }
  },
  {
   "cell_type": "code",
   "execution_count": 72,
   "outputs": [
    {
     "data": {
      "application/vnd.plotly.v1+json": {
       "config": {
        "plotlyServerURL": "https://plot.ly"
       },
       "data": [
        {
         "hovertemplate": "Effective date=%{x}<br>S&P/ASX 200=%{y}<extra></extra>",
         "legendgroup": "",
         "line": {
          "color": "#636efa",
          "dash": "solid"
         },
         "mode": "lines",
         "name": "",
         "orientation": "v",
         "showlegend": false,
         "type": "scatter",
         "x": [
          "2017-10-20",
          "2017-10-23",
          "2017-10-24",
          "2017-10-25",
          "2017-10-26",
          "2017-10-27",
          "2017-10-30",
          "2017-10-31",
          "2017-11-01",
          "2017-11-02",
          "2017-11-03",
          "2017-11-06",
          "2017-11-07",
          "2017-11-08",
          "2017-11-09",
          "2017-11-10",
          "2017-11-13",
          "2017-11-14",
          "2017-11-15",
          "2017-11-16",
          "2017-11-17",
          "2017-11-20",
          "2017-11-21",
          "2017-11-22",
          "2017-11-23",
          "2017-11-24",
          "2017-11-27",
          "2017-11-28",
          "2017-11-29",
          "2017-11-30",
          "2017-12-01",
          "2017-12-04",
          "2017-12-05",
          "2017-12-06",
          "2017-12-07",
          "2017-12-08",
          "2017-12-11",
          "2017-12-12",
          "2017-12-13",
          "2017-12-14",
          "2017-12-15",
          "2017-12-18",
          "2017-12-19",
          "2017-12-20",
          "2017-12-21",
          "2017-12-22",
          "2017-12-27",
          "2017-12-28",
          "2017-12-29",
          "2018-01-02",
          "2018-01-03",
          "2018-01-04",
          "2018-01-05",
          "2018-01-08",
          "2018-01-09",
          "2018-01-10",
          "2018-01-11",
          "2018-01-12",
          "2018-01-15",
          "2018-01-16",
          "2018-01-17",
          "2018-01-18",
          "2018-01-19",
          "2018-01-22",
          "2018-01-23",
          "2018-01-24",
          "2018-01-25",
          "2018-01-29",
          "2018-01-30",
          "2018-01-31",
          "2018-02-01",
          "2018-02-02",
          "2018-02-05",
          "2018-02-06",
          "2018-02-07",
          "2018-02-08",
          "2018-02-09",
          "2018-02-12",
          "2018-02-13",
          "2018-02-14",
          "2018-02-15",
          "2018-02-16",
          "2018-02-19",
          "2018-02-20",
          "2018-02-21",
          "2018-02-22",
          "2018-02-23",
          "2018-02-26",
          "2018-02-27",
          "2018-02-28",
          "2018-03-01",
          "2018-03-02",
          "2018-03-05",
          "2018-03-06",
          "2018-03-07",
          "2018-03-08",
          "2018-03-09",
          "2018-03-12",
          "2018-03-13",
          "2018-03-14",
          "2018-03-15",
          "2018-03-16",
          "2018-03-19",
          "2018-03-20",
          "2018-03-21",
          "2018-03-22",
          "2018-03-23",
          "2018-03-26",
          "2018-03-27",
          "2018-03-28",
          "2018-03-29",
          "2018-04-03",
          "2018-04-04",
          "2018-04-05",
          "2018-04-06",
          "2018-04-09",
          "2018-04-10",
          "2018-04-11",
          "2018-04-12",
          "2018-04-13",
          "2018-04-16",
          "2018-04-17",
          "2018-04-18",
          "2018-04-19",
          "2018-04-20",
          "2018-04-23",
          "2018-04-24",
          "2018-04-26",
          "2018-04-27",
          "2018-04-30",
          "2018-05-01",
          "2018-05-02",
          "2018-05-03",
          "2018-05-04",
          "2018-05-07",
          "2018-05-08",
          "2018-05-09",
          "2018-05-10",
          "2018-05-11",
          "2018-05-14",
          "2018-05-15",
          "2018-05-16",
          "2018-05-17",
          "2018-05-18",
          "2018-05-21",
          "2018-05-22",
          "2018-05-23",
          "2018-05-24",
          "2018-05-25",
          "2018-05-28",
          "2018-05-29",
          "2018-05-30",
          "2018-05-31",
          "2018-06-01",
          "2018-06-04",
          "2018-06-05",
          "2018-06-06",
          "2018-06-07",
          "2018-06-08",
          "2018-06-12",
          "2018-06-13",
          "2018-06-14",
          "2018-06-15",
          "2018-06-18",
          "2018-06-19",
          "2018-06-20",
          "2018-06-21",
          "2018-06-22",
          "2018-06-25",
          "2018-06-26",
          "2018-06-27",
          "2018-06-28",
          "2018-06-29",
          "2018-07-02",
          "2018-07-03",
          "2018-07-04",
          "2018-07-05",
          "2018-07-06",
          "2018-07-09",
          "2018-07-10",
          "2018-07-11",
          "2018-07-12",
          "2018-07-13",
          "2018-07-16",
          "2018-07-17",
          "2018-07-18",
          "2018-07-19",
          "2018-07-20",
          "2018-07-23",
          "2018-07-24",
          "2018-07-25",
          "2018-07-26",
          "2018-07-27",
          "2018-07-30",
          "2018-07-31",
          "2018-08-01",
          "2018-08-02",
          "2018-08-03",
          "2018-08-06",
          "2018-08-07",
          "2018-08-08",
          "2018-08-09",
          "2018-08-10",
          "2018-08-13",
          "2018-08-14",
          "2018-08-15",
          "2018-08-16",
          "2018-08-17",
          "2018-08-20",
          "2018-08-21",
          "2018-08-22",
          "2018-08-23",
          "2018-08-24",
          "2018-08-27",
          "2018-08-28",
          "2018-08-29",
          "2018-08-30",
          "2018-08-31",
          "2018-09-03",
          "2018-09-04",
          "2018-09-05",
          "2018-09-06",
          "2018-09-07",
          "2018-09-10",
          "2018-09-11",
          "2018-09-12",
          "2018-09-13",
          "2018-09-14",
          "2018-09-17",
          "2018-09-18",
          "2018-09-19",
          "2018-09-20",
          "2018-09-21",
          "2018-09-24",
          "2018-09-25",
          "2018-09-26",
          "2018-09-27",
          "2018-09-28",
          "2018-10-01",
          "2018-10-02",
          "2018-10-03",
          "2018-10-04",
          "2018-10-05",
          "2018-10-08",
          "2018-10-09",
          "2018-10-10",
          "2018-10-11",
          "2018-10-12",
          "2018-10-15",
          "2018-10-16",
          "2018-10-17",
          "2018-10-18",
          "2018-10-19",
          "2018-10-22",
          "2018-10-23",
          "2018-10-24",
          "2018-10-25",
          "2018-10-26",
          "2018-10-29",
          "2018-10-30",
          "2018-10-31",
          "2018-11-01",
          "2018-11-02",
          "2018-11-05",
          "2018-11-06",
          "2018-11-07",
          "2018-11-08",
          "2018-11-09",
          "2018-11-12",
          "2018-11-13",
          "2018-11-14",
          "2018-11-15",
          "2018-11-16",
          "2018-11-19",
          "2018-11-20",
          "2018-11-21",
          "2018-11-22",
          "2018-11-23",
          "2018-11-26",
          "2018-11-27",
          "2018-11-28",
          "2018-11-29",
          "2018-11-30",
          "2018-12-03",
          "2018-12-04",
          "2018-12-05",
          "2018-12-06",
          "2018-12-07",
          "2018-12-10",
          "2018-12-11",
          "2018-12-12",
          "2018-12-13",
          "2018-12-14",
          "2018-12-17",
          "2018-12-18",
          "2018-12-19",
          "2018-12-20",
          "2018-12-21",
          "2018-12-24",
          "2018-12-27",
          "2018-12-28",
          "2018-12-31",
          "2019-01-02",
          "2019-01-03",
          "2019-01-04",
          "2019-01-07",
          "2019-01-08",
          "2019-01-09",
          "2019-01-10",
          "2019-01-11",
          "2019-01-14",
          "2019-01-15",
          "2019-01-16",
          "2019-01-17",
          "2019-01-18",
          "2019-01-21",
          "2019-01-22",
          "2019-01-23",
          "2019-01-24",
          "2019-01-25",
          "2019-01-29",
          "2019-01-30",
          "2019-01-31",
          "2019-02-01",
          "2019-02-04",
          "2019-02-05",
          "2019-02-06",
          "2019-02-07",
          "2019-02-08",
          "2019-02-11",
          "2019-02-12",
          "2019-02-13",
          "2019-02-14",
          "2019-02-15",
          "2019-02-18",
          "2019-02-19",
          "2019-02-20",
          "2019-02-21",
          "2019-02-22",
          "2019-02-25",
          "2019-02-26",
          "2019-02-27",
          "2019-02-28",
          "2019-03-01",
          "2019-03-04",
          "2019-03-05",
          "2019-03-06",
          "2019-03-07",
          "2019-03-08",
          "2019-03-11",
          "2019-03-12",
          "2019-03-13",
          "2019-03-14",
          "2019-03-15",
          "2019-03-18",
          "2019-03-19",
          "2019-03-20",
          "2019-03-21",
          "2019-03-22",
          "2019-03-25",
          "2019-03-26",
          "2019-03-27",
          "2019-03-28",
          "2019-03-29",
          "2019-04-01",
          "2019-04-02",
          "2019-04-03",
          "2019-04-04",
          "2019-04-05",
          "2019-04-08",
          "2019-04-09",
          "2019-04-10",
          "2019-04-11",
          "2019-04-12",
          "2019-04-15",
          "2019-04-16",
          "2019-04-17",
          "2019-04-18",
          "2019-04-23",
          "2019-04-24",
          "2019-04-26",
          "2019-04-29",
          "2019-04-30",
          "2019-05-01",
          "2019-05-02",
          "2019-05-03",
          "2019-05-06",
          "2019-05-07",
          "2019-05-08",
          "2019-05-09",
          "2019-05-10",
          "2019-05-13",
          "2019-05-14",
          "2019-05-15",
          "2019-05-16",
          "2019-05-17",
          "2019-05-20",
          "2019-05-21",
          "2019-05-22",
          "2019-05-23",
          "2019-05-24",
          "2019-05-27",
          "2019-05-28",
          "2019-05-29",
          "2019-05-30",
          "2019-05-31",
          "2019-06-03",
          "2019-06-04",
          "2019-06-05",
          "2019-06-06",
          "2019-06-07",
          "2019-06-11",
          "2019-06-12",
          "2019-06-13",
          "2019-06-14",
          "2019-06-17",
          "2019-06-18",
          "2019-06-19",
          "2019-06-20",
          "2019-06-21",
          "2019-06-24",
          "2019-06-25",
          "2019-06-26",
          "2019-06-27",
          "2019-06-28",
          "2019-07-01",
          "2019-07-02",
          "2019-07-03",
          "2019-07-04",
          "2019-07-05",
          "2019-07-08",
          "2019-07-09",
          "2019-07-10",
          "2019-07-11",
          "2019-07-12",
          "2019-07-15",
          "2019-07-16",
          "2019-07-17",
          "2019-07-18",
          "2019-07-19",
          "2019-07-22",
          "2019-07-23",
          "2019-07-24",
          "2019-07-25",
          "2019-07-26",
          "2019-07-29",
          "2019-07-30",
          "2019-07-31",
          "2019-08-01",
          "2019-08-02",
          "2019-08-05",
          "2019-08-06",
          "2019-08-07",
          "2019-08-08",
          "2019-08-09",
          "2019-08-12",
          "2019-08-13",
          "2019-08-14",
          "2019-08-15",
          "2019-08-16",
          "2019-08-19",
          "2019-08-20",
          "2019-08-21",
          "2019-08-22",
          "2019-08-23",
          "2019-08-26",
          "2019-08-27",
          "2019-08-28",
          "2019-08-29",
          "2019-08-30",
          "2019-09-02",
          "2019-09-03",
          "2019-09-04",
          "2019-09-05",
          "2019-09-06",
          "2019-09-09",
          "2019-09-10",
          "2019-09-11",
          "2019-09-12",
          "2019-09-13",
          "2019-09-16",
          "2019-09-17",
          "2019-09-18",
          "2019-09-19",
          "2019-09-20",
          "2019-09-23",
          "2019-09-24",
          "2019-09-25",
          "2019-09-26",
          "2019-09-27",
          "2019-09-30",
          "2019-10-01",
          "2019-10-02",
          "2019-10-03",
          "2019-10-04",
          "2019-10-07",
          "2019-10-08",
          "2019-10-09",
          "2019-10-10",
          "2019-10-11",
          "2019-10-14",
          "2019-10-15",
          "2019-10-16",
          "2019-10-17",
          "2019-10-18",
          "2019-10-21",
          "2019-10-22",
          "2019-10-23",
          "2019-10-24",
          "2019-10-25",
          "2019-10-28",
          "2019-10-29",
          "2019-10-30",
          "2019-10-31",
          "2019-11-01",
          "2019-11-04",
          "2019-11-05",
          "2019-11-06",
          "2019-11-07",
          "2019-11-08",
          "2019-11-11",
          "2019-11-12",
          "2019-11-13",
          "2019-11-14",
          "2019-11-15",
          "2019-11-18",
          "2019-11-19",
          "2019-11-20",
          "2019-11-21",
          "2019-11-22",
          "2019-11-25",
          "2019-11-26",
          "2019-11-27",
          "2019-11-28",
          "2019-11-29",
          "2019-12-02",
          "2019-12-03",
          "2019-12-04",
          "2019-12-05",
          "2019-12-06",
          "2019-12-09",
          "2019-12-10",
          "2019-12-11",
          "2019-12-12",
          "2019-12-13",
          "2019-12-16",
          "2019-12-17",
          "2019-12-18",
          "2019-12-19",
          "2019-12-20",
          "2019-12-23",
          "2019-12-24",
          "2019-12-27",
          "2019-12-30",
          "2019-12-31",
          "2020-01-02",
          "2020-01-03",
          "2020-01-06",
          "2020-01-07",
          "2020-01-08",
          "2020-01-09",
          "2020-01-10",
          "2020-01-13",
          "2020-01-14",
          "2020-01-15",
          "2020-01-16",
          "2020-01-17",
          "2020-01-20",
          "2020-01-21",
          "2020-01-22",
          "2020-01-23",
          "2020-01-24",
          "2020-01-28",
          "2020-01-29",
          "2020-01-30",
          "2020-01-31",
          "2020-02-03",
          "2020-02-04",
          "2020-02-05",
          "2020-02-06",
          "2020-02-07",
          "2020-02-10",
          "2020-02-11",
          "2020-02-12",
          "2020-02-13",
          "2020-02-14",
          "2020-02-17",
          "2020-02-18",
          "2020-02-19",
          "2020-02-20",
          "2020-02-21",
          "2020-02-24",
          "2020-02-25",
          "2020-02-26",
          "2020-02-27",
          "2020-02-28",
          "2020-03-02",
          "2020-03-03",
          "2020-03-04",
          "2020-03-05",
          "2020-03-06",
          "2020-03-09",
          "2020-03-10",
          "2020-03-11",
          "2020-03-12",
          "2020-03-13",
          "2020-03-16",
          "2020-03-17",
          "2020-03-18",
          "2020-03-19",
          "2020-03-20",
          "2020-03-23",
          "2020-03-24",
          "2020-03-25",
          "2020-03-26",
          "2020-03-27",
          "2020-03-30",
          "2020-03-31",
          "2020-04-01",
          "2020-04-02",
          "2020-04-03",
          "2020-04-06",
          "2020-04-07",
          "2020-04-08",
          "2020-04-09",
          "2020-04-14",
          "2020-04-15",
          "2020-04-16",
          "2020-04-17",
          "2020-04-20",
          "2020-04-21",
          "2020-04-22",
          "2020-04-23",
          "2020-04-24",
          "2020-04-27",
          "2020-04-28",
          "2020-04-29",
          "2020-04-30",
          "2020-05-01",
          "2020-05-04",
          "2020-05-05",
          "2020-05-06",
          "2020-05-07",
          "2020-05-08",
          "2020-05-11",
          "2020-05-12",
          "2020-05-13",
          "2020-05-14",
          "2020-05-15",
          "2020-05-18",
          "2020-05-19",
          "2020-05-20",
          "2020-05-21",
          "2020-05-22",
          "2020-05-25",
          "2020-05-26",
          "2020-05-27",
          "2020-05-28",
          "2020-05-29",
          "2020-06-01",
          "2020-06-02",
          "2020-06-03",
          "2020-06-04",
          "2020-06-05",
          "2020-06-09",
          "2020-06-10",
          "2020-06-11",
          "2020-06-12",
          "2020-06-15",
          "2020-06-16",
          "2020-06-17",
          "2020-06-18",
          "2020-06-19",
          "2020-06-22",
          "2020-06-23",
          "2020-06-24",
          "2020-06-25",
          "2020-06-26",
          "2020-06-29",
          "2020-06-30",
          "2020-07-01",
          "2020-07-02",
          "2020-07-03",
          "2020-07-06",
          "2020-07-07",
          "2020-07-08",
          "2020-07-09",
          "2020-07-10",
          "2020-07-13",
          "2020-07-14",
          "2020-07-15",
          "2020-07-16",
          "2020-07-17",
          "2020-07-20",
          "2020-07-21",
          "2020-07-22",
          "2020-07-23",
          "2020-07-24",
          "2020-07-27",
          "2020-07-28",
          "2020-07-29",
          "2020-07-30",
          "2020-07-31",
          "2020-08-03",
          "2020-08-04",
          "2020-08-05",
          "2020-08-06",
          "2020-08-07",
          "2020-08-10",
          "2020-08-11",
          "2020-08-12",
          "2020-08-13",
          "2020-08-14",
          "2020-08-17",
          "2020-08-18",
          "2020-08-19",
          "2020-08-20",
          "2020-08-21",
          "2020-08-24",
          "2020-08-25",
          "2020-08-26",
          "2020-08-27",
          "2020-08-28",
          "2020-08-31",
          "2020-09-01",
          "2020-09-02",
          "2020-09-03",
          "2020-09-04",
          "2020-09-07",
          "2020-09-08",
          "2020-09-09",
          "2020-09-10",
          "2020-09-11",
          "2020-09-14",
          "2020-09-15",
          "2020-09-16",
          "2020-09-17",
          "2020-09-18",
          "2020-09-21",
          "2020-09-22",
          "2020-09-23",
          "2020-09-24",
          "2020-09-25",
          "2020-09-28",
          "2020-09-29",
          "2020-09-30",
          "2020-10-01",
          "2020-10-02",
          "2020-10-05",
          "2020-10-06",
          "2020-10-07",
          "2020-10-08",
          "2020-10-09",
          "2020-10-12",
          "2020-10-13",
          "2020-10-14",
          "2020-10-15",
          "2020-10-16",
          "2020-10-19",
          "2020-10-20"
         ],
         "xaxis": "x",
         "y": [
          5906.99,
          5893.96,
          5897.61,
          5905.6,
          5916.3,
          5903.16,
          5919.08,
          5909.02,
          5937.77,
          5931.71,
          5959.88,
          5953.78,
          6014.34,
          6016.26,
          6049.42,
          6029.37,
          6021.77,
          5968.75,
          5934.24,
          5943.51,
          5957.25,
          5945.67,
          5963.52,
          5986.41,
          5986.19,
          5982.55,
          5988.77,
          5984.25,
          6011.12,
          5969.89,
          5989.76,
          5985.59,
          5971.82,
          5945.71,
          5977.72,
          5994.37,
          5998.28,
          6013.2,
          6021.83,
          6011.26,
          5996.97,
          6038.93,
          6071.79,
          6075.62,
          6060.36,
          6069.71,
          6069.87,
          6088.14,
          6065.13,
          6061.28,
          6070.38,
          6077.08,
          6122.35,
          6130.37,
          6135.81,
          6096.68,
          6067.62,
          6070.05,
          6077.08,
          6048.64,
          6015.81,
          6014.57,
          6005.81,
          5991.91,
          6036.96,
          6054.66,
          6050.02,
          6075.41,
          6022.8,
          6037.68,
          6090.07,
          6121.39,
          6026.23,
          5833.34,
          5876.81,
          5890.7,
          5837.97,
          5820.69,
          5855.9,
          5841.24,
          5908.99,
          5904.04,
          5941.59,
          5940.85,
          5943.72,
          5950.88,
          5999.79,
          6042.18,
          6056.86,
          6015.96,
          5973.34,
          5928.9,
          5895.03,
          5962.44,
          5901.99,
          5942.87,
          5963.23,
          5996.12,
          5974.71,
          5935.31,
          5920.85,
          5949.42,
          5959.43,
          5936.38,
          5950.27,
          5937.15,
          5820.73,
          5790.46,
          5832.3,
          5789.46,
          5759.37,
          5751.92,
          5761.35,
          5788.81,
          5788.74,
          5808.67,
          5856.97,
          5828.68,
          5815.53,
          5829.08,
          5841.34,
          5841.55,
          5861.42,
          5881.0,
          5868.78,
          5886.01,
          5921.55,
          5910.77,
          5953.65,
          5982.73,
          6015.23,
          6050.18,
          6098.28,
          6062.89,
          6084.47,
          6091.89,
          6108.02,
          6118.75,
          6116.19,
          6135.3,
          6097.82,
          6106.96,
          6094.26,
          6087.36,
          6084.49,
          6041.87,
          6032.51,
          6037.08,
          6032.82,
          6004.02,
          6013.56,
          5984.73,
          6011.88,
          5990.39,
          6025.55,
          5994.88,
          6025.11,
          6057.29,
          6045.18,
          6054.44,
          6023.53,
          6016.64,
          6094.03,
          6104.13,
          6102.12,
          6172.58,
          6232.13,
          6225.22,
          6210.41,
          6197.61,
          6195.86,
          6215.39,
          6194.63,
          6177.79,
          6210.21,
          6183.39,
          6215.52,
          6272.29,
          6286.04,
          6258.1,
          6215.6,
          6268.31,
          6268.39,
          6241.52,
          6203.64,
          6245.11,
          6262.7,
          6285.85,
          6227.56,
          6265.84,
          6247.65,
          6244.5,
          6300.23,
          6278.39,
          6280.2,
          6275.72,
          6240.86,
          6234.78,
          6272.98,
          6253.94,
          6268.53,
          6297.65,
          6278.39,
          6252.17,
          6299.63,
          6329.02,
          6328.29,
          6339.23,
          6344.99,
          6284.38,
          6265.98,
          6244.37,
          6247.33,
          6268.87,
          6304.65,
          6352.24,
          6351.76,
          6319.5,
          6310.87,
          6293.07,
          6230.45,
          6160.42,
          6143.81,
          6141.7,
          6179.68,
          6175.92,
          6128.72,
          6165.33,
          6184.97,
          6161.45,
          6189.96,
          6169.45,
          6194.56,
          6186.87,
          6185.88,
          6192.28,
          6181.21,
          6207.56,
          6172.26,
          6126.21,
          6146.07,
          6176.3,
          6185.49,
          6100.31,
          6041.07,
          6049.81,
          5883.76,
          5895.67,
          5837.1,
          5869.88,
          5939.09,
          5942.41,
          5939.49,
          5904.94,
          5843.09,
          5829.03,
          5664.07,
          5665.16,
          5728.15,
          5805.1,
          5830.31,
          5840.8,
          5849.21,
          5818.14,
          5875.18,
          5896.87,
          5928.24,
          5921.85,
          5941.3,
          5834.23,
          5732.77,
          5736.02,
          5730.55,
          5693.66,
          5671.79,
          5642.77,
          5691.28,
          5716.2,
          5671.57,
          5728.28,
          5725.08,
          5758.42,
          5667.16,
          5771.16,
          5713.14,
          5668.35,
          5657.65,
          5681.49,
          5552.5,
          5575.88,
          5653.46,
          5661.61,
          5601.98,
          5658.27,
          5589.47,
          5580.6,
          5505.82,
          5467.64,
          5493.82,
          5597.24,
          5654.32,
          5646.37,
          5557.75,
          5633.4,
          5619.35,
          5683.19,
          5722.44,
          5778.29,
          5795.27,
          5774.58,
          5773.37,
          5814.56,
          5835.16,
          5850.05,
          5879.59,
          5890.38,
          5858.79,
          5843.72,
          5865.69,
          5905.61,
          5874.17,
          5886.71,
          5864.65,
          5862.83,
          5891.2,
          6005.92,
          6026.15,
          6092.46,
          6071.46,
          6060.85,
          6079.08,
          6063.57,
          6059.39,
          6066.1,
          6089.84,
          6106.88,
          6096.49,
          6139.25,
          6167.31,
          6186.32,
          6128.39,
          6150.27,
          6168.99,
          6192.73,
          6217.41,
          6199.29,
          6245.62,
          6263.89,
          6203.76,
          6180.19,
          6174.82,
          6161.19,
          6179.59,
          6175.17,
          6190.53,
          6184.79,
          6165.35,
          6167.17,
          6195.23,
          6126.21,
          6130.59,
          6135.97,
          6176.08,
          6180.73,
          6216.96,
          6242.36,
          6285.05,
          6232.75,
          6181.26,
          6221.35,
          6221.82,
          6223.54,
          6198.67,
          6251.32,
          6251.44,
          6277.45,
          6256.38,
          6259.81,
          6319.42,
          6382.14,
          6385.65,
          6359.49,
          6325.47,
          6375.89,
          6338.41,
          6335.8,
          6283.72,
          6295.68,
          6269.15,
          6295.33,
          6310.85,
          6297.59,
          6239.91,
          6284.2,
          6327.84,
          6365.3,
          6476.15,
          6500.14,
          6510.71,
          6491.79,
          6456.04,
          6451.89,
          6484.84,
          6440.03,
          6392.13,
          6396.85,
          6320.55,
          6332.36,
          6358.52,
          6382.96,
          6443.89,
          6546.29,
          6543.74,
          6542.42,
          6554.0,
          6530.91,
          6570.0,
          6648.13,
          6687.41,
          6650.78,
          6665.44,
          6658.03,
          6640.49,
          6666.31,
          6618.77,
          6648.06,
          6653.21,
          6685.46,
          6718.02,
          6751.28,
          6672.25,
          6665.69,
          6689.79,
          6716.14,
          6696.55,
          6652.99,
          6640.97,
          6673.26,
          6649.12,
          6700.35,
          6691.24,
          6724.63,
          6776.67,
          6818.03,
          6793.39,
          6825.8,
          6845.08,
          6812.56,
          6788.93,
          6768.57,
          6640.3,
          6478.09,
          6519.46,
          6568.15,
          6584.43,
          6590.27,
          6568.54,
          6595.9,
          6408.09,
          6405.53,
          6467.43,
          6544.96,
          6483.27,
          6501.81,
          6523.13,
          6440.05,
          6471.22,
          6500.64,
          6507.39,
          6604.22,
          6579.41,
          6573.4,
          6553.01,
          6613.16,
          6647.33,
          6647.96,
          6614.06,
          6638.04,
          6654.87,
          6669.18,
          6673.48,
          6695.25,
          6681.59,
          6717.48,
          6730.75,
          6749.72,
          6748.87,
          6710.22,
          6677.58,
          6716.12,
          6688.35,
          6742.85,
          6639.94,
          6492.99,
          6517.08,
          6563.56,
          6593.42,
          6546.72,
          6547.08,
          6606.81,
          6642.59,
          6652.01,
          6736.54,
          6684.68,
          6649.68,
          6652.51,
          6672.18,
          6673.09,
          6693.65,
          6739.22,
          6740.71,
          6745.42,
          6689.48,
          6663.37,
          6669.09,
          6686.87,
          6697.12,
          6660.16,
          6726.63,
          6724.11,
          6772.52,
          6752.97,
          6698.36,
          6735.05,
          6793.72,
          6766.82,
          6814.22,
          6722.42,
          6672.91,
          6709.78,
          6731.41,
          6787.53,
          6850.6,
          6864.0,
          6846.0,
          6862.27,
          6712.29,
          6606.51,
          6682.95,
          6707.02,
          6730.03,
          6706.91,
          6752.64,
          6708.83,
          6739.68,
          6849.71,
          6847.28,
          6851.42,
          6833.11,
          6816.32,
          6785.14,
          6794.16,
          6821.65,
          6804.85,
          6684.07,
          6690.58,
          6733.49,
          6735.71,
          6826.44,
          6817.62,
          6874.23,
          6929.03,
          6903.67,
          6962.15,
          6994.84,
          7041.78,
          7064.13,
          7079.51,
          7066.35,
          7132.73,
          7087.96,
          7090.54,
          6994.46,
          7031.52,
          7008.43,
          7017.22,
          6923.25,
          6948.74,
          6976.05,
          7049.2,
          7022.58,
          7012.53,
          7055.31,
          7088.23,
          7103.23,
          7130.2,
          7125.05,
          7113.7,
          7144.56,
          7162.49,
          7138.96,
          6978.27,
          6866.6,
          6708.1,
          6657.85,
          6441.21,
          6391.52,
          6435.68,
          6325.38,
          6395.73,
          6216.21,
          5760.56,
          5939.65,
          5725.87,
          5304.63,
          5539.3,
          5002.02,
          5293.41,
          4953.2,
          4782.94,
          4816.63,
          4546.03,
          4735.65,
          4998.07,
          5113.29,
          4842.43,
          5181.38,
          5076.83,
          5258.64,
          5154.3,
          5067.48,
          5286.81,
          5252.29,
          5206.94,
          5387.32,
          5488.11,
          5466.67,
          5416.28,
          5487.54,
          5353.01,
          5221.3,
          5221.25,
          5217.11,
          5242.62,
          5321.44,
          5313.1,
          5393.43,
          5522.35,
          5245.89,
          5319.85,
          5407.07,
          5384.61,
          5364.2,
          5391.08,
          5461.22,
          5403.05,
          5421.85,
          5328.72,
          5404.81,
          5460.54,
          5559.52,
          5573.05,
          5550.43,
          5497.03,
          5615.59,
          5780.05,
          5775.01,
          5851.1,
          5755.69,
          5819.15,
          5835.09,
          5941.6,
          5991.82,
          5998.72,
          6144.95,
          6148.43,
          5960.64,
          5847.81,
          5719.83,
          5942.3,
          5991.77,
          5936.47,
          5942.58,
          5944.54,
          5954.41,
          5965.75,
          5817.68,
          5904.08,
          5815.03,
          5897.88,
          5934.4,
          6032.71,
          6057.88,
          6014.61,
          6012.92,
          5920.3,
          5955.46,
          5919.22,
          5977.52,
          5941.08,
          6052.92,
          6010.86,
          6033.63,
          6001.57,
          6156.3,
          6075.06,
          6094.5,
          6024.0,
          6044.17,
          6020.55,
          6006.39,
          6051.08,
          5927.78,
          5926.09,
          6037.55,
          6001.3,
          6042.19,
          6004.84,
          6110.2,
          6138.65,
          6132.05,
          6091.0,
          6126.25,
          6076.38,
          6123.36,
          6167.64,
          6120.02,
          6111.18,
          6129.57,
          6161.39,
          6116.36,
          6126.23,
          6073.81,
          6060.46,
          5953.4,
          6063.21,
          6112.61,
          5925.51,
          5944.81,
          6007.84,
          5878.63,
          5908.52,
          5859.42,
          5899.52,
          5894.83,
          5956.13,
          5883.22,
          5864.5,
          5822.62,
          5784.07,
          5923.93,
          5875.94,
          5964.92,
          5952.32,
          5952.05,
          5815.94,
          5872.93,
          5791.5,
          5941.58,
          5962.07,
          6036.38,
          6102.04,
          6102.17,
          6131.97,
          6195.75,
          6179.17,
          6210.3,
          6176.79,
          6229.38,
          6184.58
         ],
         "yaxis": "y"
        }
       ],
       "layout": {
        "legend": {
         "tracegroupgap": 0
        },
        "margin": {
         "t": 60
        },
        "template": {
         "data": {
          "bar": [
           {
            "error_x": {
             "color": "#2a3f5f"
            },
            "error_y": {
             "color": "#2a3f5f"
            },
            "marker": {
             "line": {
              "color": "#E5ECF6",
              "width": 0.5
             }
            },
            "type": "bar"
           }
          ],
          "barpolar": [
           {
            "marker": {
             "line": {
              "color": "#E5ECF6",
              "width": 0.5
             }
            },
            "type": "barpolar"
           }
          ],
          "carpet": [
           {
            "aaxis": {
             "endlinecolor": "#2a3f5f",
             "gridcolor": "white",
             "linecolor": "white",
             "minorgridcolor": "white",
             "startlinecolor": "#2a3f5f"
            },
            "baxis": {
             "endlinecolor": "#2a3f5f",
             "gridcolor": "white",
             "linecolor": "white",
             "minorgridcolor": "white",
             "startlinecolor": "#2a3f5f"
            },
            "type": "carpet"
           }
          ],
          "choropleth": [
           {
            "colorbar": {
             "outlinewidth": 0,
             "ticks": ""
            },
            "type": "choropleth"
           }
          ],
          "contour": [
           {
            "colorbar": {
             "outlinewidth": 0,
             "ticks": ""
            },
            "colorscale": [
             [
              0.0,
              "#0d0887"
             ],
             [
              0.1111111111111111,
              "#46039f"
             ],
             [
              0.2222222222222222,
              "#7201a8"
             ],
             [
              0.3333333333333333,
              "#9c179e"
             ],
             [
              0.4444444444444444,
              "#bd3786"
             ],
             [
              0.5555555555555556,
              "#d8576b"
             ],
             [
              0.6666666666666666,
              "#ed7953"
             ],
             [
              0.7777777777777778,
              "#fb9f3a"
             ],
             [
              0.8888888888888888,
              "#fdca26"
             ],
             [
              1.0,
              "#f0f921"
             ]
            ],
            "type": "contour"
           }
          ],
          "contourcarpet": [
           {
            "colorbar": {
             "outlinewidth": 0,
             "ticks": ""
            },
            "type": "contourcarpet"
           }
          ],
          "heatmap": [
           {
            "colorbar": {
             "outlinewidth": 0,
             "ticks": ""
            },
            "colorscale": [
             [
              0.0,
              "#0d0887"
             ],
             [
              0.1111111111111111,
              "#46039f"
             ],
             [
              0.2222222222222222,
              "#7201a8"
             ],
             [
              0.3333333333333333,
              "#9c179e"
             ],
             [
              0.4444444444444444,
              "#bd3786"
             ],
             [
              0.5555555555555556,
              "#d8576b"
             ],
             [
              0.6666666666666666,
              "#ed7953"
             ],
             [
              0.7777777777777778,
              "#fb9f3a"
             ],
             [
              0.8888888888888888,
              "#fdca26"
             ],
             [
              1.0,
              "#f0f921"
             ]
            ],
            "type": "heatmap"
           }
          ],
          "heatmapgl": [
           {
            "colorbar": {
             "outlinewidth": 0,
             "ticks": ""
            },
            "colorscale": [
             [
              0.0,
              "#0d0887"
             ],
             [
              0.1111111111111111,
              "#46039f"
             ],
             [
              0.2222222222222222,
              "#7201a8"
             ],
             [
              0.3333333333333333,
              "#9c179e"
             ],
             [
              0.4444444444444444,
              "#bd3786"
             ],
             [
              0.5555555555555556,
              "#d8576b"
             ],
             [
              0.6666666666666666,
              "#ed7953"
             ],
             [
              0.7777777777777778,
              "#fb9f3a"
             ],
             [
              0.8888888888888888,
              "#fdca26"
             ],
             [
              1.0,
              "#f0f921"
             ]
            ],
            "type": "heatmapgl"
           }
          ],
          "histogram": [
           {
            "marker": {
             "colorbar": {
              "outlinewidth": 0,
              "ticks": ""
             }
            },
            "type": "histogram"
           }
          ],
          "histogram2d": [
           {
            "colorbar": {
             "outlinewidth": 0,
             "ticks": ""
            },
            "colorscale": [
             [
              0.0,
              "#0d0887"
             ],
             [
              0.1111111111111111,
              "#46039f"
             ],
             [
              0.2222222222222222,
              "#7201a8"
             ],
             [
              0.3333333333333333,
              "#9c179e"
             ],
             [
              0.4444444444444444,
              "#bd3786"
             ],
             [
              0.5555555555555556,
              "#d8576b"
             ],
             [
              0.6666666666666666,
              "#ed7953"
             ],
             [
              0.7777777777777778,
              "#fb9f3a"
             ],
             [
              0.8888888888888888,
              "#fdca26"
             ],
             [
              1.0,
              "#f0f921"
             ]
            ],
            "type": "histogram2d"
           }
          ],
          "histogram2dcontour": [
           {
            "colorbar": {
             "outlinewidth": 0,
             "ticks": ""
            },
            "colorscale": [
             [
              0.0,
              "#0d0887"
             ],
             [
              0.1111111111111111,
              "#46039f"
             ],
             [
              0.2222222222222222,
              "#7201a8"
             ],
             [
              0.3333333333333333,
              "#9c179e"
             ],
             [
              0.4444444444444444,
              "#bd3786"
             ],
             [
              0.5555555555555556,
              "#d8576b"
             ],
             [
              0.6666666666666666,
              "#ed7953"
             ],
             [
              0.7777777777777778,
              "#fb9f3a"
             ],
             [
              0.8888888888888888,
              "#fdca26"
             ],
             [
              1.0,
              "#f0f921"
             ]
            ],
            "type": "histogram2dcontour"
           }
          ],
          "mesh3d": [
           {
            "colorbar": {
             "outlinewidth": 0,
             "ticks": ""
            },
            "type": "mesh3d"
           }
          ],
          "parcoords": [
           {
            "line": {
             "colorbar": {
              "outlinewidth": 0,
              "ticks": ""
             }
            },
            "type": "parcoords"
           }
          ],
          "pie": [
           {
            "automargin": true,
            "type": "pie"
           }
          ],
          "scatter": [
           {
            "marker": {
             "colorbar": {
              "outlinewidth": 0,
              "ticks": ""
             }
            },
            "type": "scatter"
           }
          ],
          "scatter3d": [
           {
            "line": {
             "colorbar": {
              "outlinewidth": 0,
              "ticks": ""
             }
            },
            "marker": {
             "colorbar": {
              "outlinewidth": 0,
              "ticks": ""
             }
            },
            "type": "scatter3d"
           }
          ],
          "scattercarpet": [
           {
            "marker": {
             "colorbar": {
              "outlinewidth": 0,
              "ticks": ""
             }
            },
            "type": "scattercarpet"
           }
          ],
          "scattergeo": [
           {
            "marker": {
             "colorbar": {
              "outlinewidth": 0,
              "ticks": ""
             }
            },
            "type": "scattergeo"
           }
          ],
          "scattergl": [
           {
            "marker": {
             "colorbar": {
              "outlinewidth": 0,
              "ticks": ""
             }
            },
            "type": "scattergl"
           }
          ],
          "scattermapbox": [
           {
            "marker": {
             "colorbar": {
              "outlinewidth": 0,
              "ticks": ""
             }
            },
            "type": "scattermapbox"
           }
          ],
          "scatterpolar": [
           {
            "marker": {
             "colorbar": {
              "outlinewidth": 0,
              "ticks": ""
             }
            },
            "type": "scatterpolar"
           }
          ],
          "scatterpolargl": [
           {
            "marker": {
             "colorbar": {
              "outlinewidth": 0,
              "ticks": ""
             }
            },
            "type": "scatterpolargl"
           }
          ],
          "scatterternary": [
           {
            "marker": {
             "colorbar": {
              "outlinewidth": 0,
              "ticks": ""
             }
            },
            "type": "scatterternary"
           }
          ],
          "surface": [
           {
            "colorbar": {
             "outlinewidth": 0,
             "ticks": ""
            },
            "colorscale": [
             [
              0.0,
              "#0d0887"
             ],
             [
              0.1111111111111111,
              "#46039f"
             ],
             [
              0.2222222222222222,
              "#7201a8"
             ],
             [
              0.3333333333333333,
              "#9c179e"
             ],
             [
              0.4444444444444444,
              "#bd3786"
             ],
             [
              0.5555555555555556,
              "#d8576b"
             ],
             [
              0.6666666666666666,
              "#ed7953"
             ],
             [
              0.7777777777777778,
              "#fb9f3a"
             ],
             [
              0.8888888888888888,
              "#fdca26"
             ],
             [
              1.0,
              "#f0f921"
             ]
            ],
            "type": "surface"
           }
          ],
          "table": [
           {
            "cells": {
             "fill": {
              "color": "#EBF0F8"
             },
             "line": {
              "color": "white"
             }
            },
            "header": {
             "fill": {
              "color": "#C8D4E3"
             },
             "line": {
              "color": "white"
             }
            },
            "type": "table"
           }
          ]
         },
         "layout": {
          "annotationdefaults": {
           "arrowcolor": "#2a3f5f",
           "arrowhead": 0,
           "arrowwidth": 1
          },
          "coloraxis": {
           "colorbar": {
            "outlinewidth": 0,
            "ticks": ""
           }
          },
          "colorscale": {
           "diverging": [
            [
             0,
             "#8e0152"
            ],
            [
             0.1,
             "#c51b7d"
            ],
            [
             0.2,
             "#de77ae"
            ],
            [
             0.3,
             "#f1b6da"
            ],
            [
             0.4,
             "#fde0ef"
            ],
            [
             0.5,
             "#f7f7f7"
            ],
            [
             0.6,
             "#e6f5d0"
            ],
            [
             0.7,
             "#b8e186"
            ],
            [
             0.8,
             "#7fbc41"
            ],
            [
             0.9,
             "#4d9221"
            ],
            [
             1,
             "#276419"
            ]
           ],
           "sequential": [
            [
             0.0,
             "#0d0887"
            ],
            [
             0.1111111111111111,
             "#46039f"
            ],
            [
             0.2222222222222222,
             "#7201a8"
            ],
            [
             0.3333333333333333,
             "#9c179e"
            ],
            [
             0.4444444444444444,
             "#bd3786"
            ],
            [
             0.5555555555555556,
             "#d8576b"
            ],
            [
             0.6666666666666666,
             "#ed7953"
            ],
            [
             0.7777777777777778,
             "#fb9f3a"
            ],
            [
             0.8888888888888888,
             "#fdca26"
            ],
            [
             1.0,
             "#f0f921"
            ]
           ],
           "sequentialminus": [
            [
             0.0,
             "#0d0887"
            ],
            [
             0.1111111111111111,
             "#46039f"
            ],
            [
             0.2222222222222222,
             "#7201a8"
            ],
            [
             0.3333333333333333,
             "#9c179e"
            ],
            [
             0.4444444444444444,
             "#bd3786"
            ],
            [
             0.5555555555555556,
             "#d8576b"
            ],
            [
             0.6666666666666666,
             "#ed7953"
            ],
            [
             0.7777777777777778,
             "#fb9f3a"
            ],
            [
             0.8888888888888888,
             "#fdca26"
            ],
            [
             1.0,
             "#f0f921"
            ]
           ]
          },
          "colorway": [
           "#636efa",
           "#EF553B",
           "#00cc96",
           "#ab63fa",
           "#FFA15A",
           "#19d3f3",
           "#FF6692",
           "#B6E880",
           "#FF97FF",
           "#FECB52"
          ],
          "font": {
           "color": "#2a3f5f"
          },
          "geo": {
           "bgcolor": "white",
           "lakecolor": "white",
           "landcolor": "#E5ECF6",
           "showlakes": true,
           "showland": true,
           "subunitcolor": "white"
          },
          "hoverlabel": {
           "align": "left"
          },
          "hovermode": "closest",
          "mapbox": {
           "style": "light"
          },
          "paper_bgcolor": "white",
          "plot_bgcolor": "#E5ECF6",
          "polar": {
           "angularaxis": {
            "gridcolor": "white",
            "linecolor": "white",
            "ticks": ""
           },
           "bgcolor": "#E5ECF6",
           "radialaxis": {
            "gridcolor": "white",
            "linecolor": "white",
            "ticks": ""
           }
          },
          "scene": {
           "xaxis": {
            "backgroundcolor": "#E5ECF6",
            "gridcolor": "white",
            "gridwidth": 2,
            "linecolor": "white",
            "showbackground": true,
            "ticks": "",
            "zerolinecolor": "white"
           },
           "yaxis": {
            "backgroundcolor": "#E5ECF6",
            "gridcolor": "white",
            "gridwidth": 2,
            "linecolor": "white",
            "showbackground": true,
            "ticks": "",
            "zerolinecolor": "white"
           },
           "zaxis": {
            "backgroundcolor": "#E5ECF6",
            "gridcolor": "white",
            "gridwidth": 2,
            "linecolor": "white",
            "showbackground": true,
            "ticks": "",
            "zerolinecolor": "white"
           }
          },
          "shapedefaults": {
           "line": {
            "color": "#2a3f5f"
           }
          },
          "ternary": {
           "aaxis": {
            "gridcolor": "white",
            "linecolor": "white",
            "ticks": ""
           },
           "baxis": {
            "gridcolor": "white",
            "linecolor": "white",
            "ticks": ""
           },
           "bgcolor": "#E5ECF6",
           "caxis": {
            "gridcolor": "white",
            "linecolor": "white",
            "ticks": ""
           }
          },
          "title": {
           "x": 0.05
          },
          "xaxis": {
           "automargin": true,
           "gridcolor": "white",
           "linecolor": "white",
           "ticks": "",
           "title": {
            "standoff": 15
           },
           "zerolinecolor": "white",
           "zerolinewidth": 2
          },
          "yaxis": {
           "automargin": true,
           "gridcolor": "white",
           "linecolor": "white",
           "ticks": "",
           "title": {
            "standoff": 15
           },
           "zerolinecolor": "white",
           "zerolinewidth": 2
          }
         }
        },
        "xaxis": {
         "anchor": "y",
         "domain": [
          0.0,
          1.0
         ],
         "title": {
          "text": "Effective date"
         }
        },
        "yaxis": {
         "anchor": "x",
         "domain": [
          0.0,
          1.0
         ],
         "title": {
          "text": "S&P/ASX 200"
         }
        }
       }
      },
      "text/html": "<div>                            <div id=\"0964b6e5-98a2-4175-b48c-010baad194b7\" class=\"plotly-graph-div\" style=\"height:525px; width:100%;\"></div>            <script type=\"text/javascript\">                require([\"plotly\"], function(Plotly) {                    window.PLOTLYENV=window.PLOTLYENV || {};                                    if (document.getElementById(\"0964b6e5-98a2-4175-b48c-010baad194b7\")) {                    Plotly.newPlot(                        \"0964b6e5-98a2-4175-b48c-010baad194b7\",                        [{\"hovertemplate\": \"Effective date=%{x}<br>S&P/ASX 200=%{y}<extra></extra>\", \"legendgroup\": \"\", \"line\": {\"color\": \"#636efa\", \"dash\": \"solid\"}, \"mode\": \"lines\", \"name\": \"\", \"orientation\": \"v\", \"showlegend\": false, \"type\": \"scatter\", \"x\": [\"2017-10-20\", \"2017-10-23\", \"2017-10-24\", \"2017-10-25\", \"2017-10-26\", \"2017-10-27\", \"2017-10-30\", \"2017-10-31\", \"2017-11-01\", \"2017-11-02\", \"2017-11-03\", \"2017-11-06\", \"2017-11-07\", \"2017-11-08\", \"2017-11-09\", \"2017-11-10\", \"2017-11-13\", \"2017-11-14\", \"2017-11-15\", \"2017-11-16\", \"2017-11-17\", \"2017-11-20\", \"2017-11-21\", \"2017-11-22\", \"2017-11-23\", \"2017-11-24\", \"2017-11-27\", \"2017-11-28\", \"2017-11-29\", \"2017-11-30\", \"2017-12-01\", \"2017-12-04\", \"2017-12-05\", \"2017-12-06\", \"2017-12-07\", \"2017-12-08\", \"2017-12-11\", \"2017-12-12\", \"2017-12-13\", \"2017-12-14\", \"2017-12-15\", \"2017-12-18\", \"2017-12-19\", \"2017-12-20\", \"2017-12-21\", \"2017-12-22\", \"2017-12-27\", \"2017-12-28\", \"2017-12-29\", \"2018-01-02\", \"2018-01-03\", \"2018-01-04\", \"2018-01-05\", \"2018-01-08\", \"2018-01-09\", \"2018-01-10\", \"2018-01-11\", \"2018-01-12\", \"2018-01-15\", \"2018-01-16\", \"2018-01-17\", \"2018-01-18\", \"2018-01-19\", \"2018-01-22\", \"2018-01-23\", \"2018-01-24\", \"2018-01-25\", \"2018-01-29\", \"2018-01-30\", \"2018-01-31\", \"2018-02-01\", \"2018-02-02\", \"2018-02-05\", \"2018-02-06\", \"2018-02-07\", \"2018-02-08\", \"2018-02-09\", \"2018-02-12\", \"2018-02-13\", \"2018-02-14\", \"2018-02-15\", \"2018-02-16\", \"2018-02-19\", \"2018-02-20\", \"2018-02-21\", \"2018-02-22\", \"2018-02-23\", \"2018-02-26\", \"2018-02-27\", \"2018-02-28\", \"2018-03-01\", \"2018-03-02\", \"2018-03-05\", \"2018-03-06\", \"2018-03-07\", \"2018-03-08\", \"2018-03-09\", \"2018-03-12\", \"2018-03-13\", \"2018-03-14\", \"2018-03-15\", \"2018-03-16\", \"2018-03-19\", \"2018-03-20\", \"2018-03-21\", \"2018-03-22\", \"2018-03-23\", \"2018-03-26\", \"2018-03-27\", \"2018-03-28\", \"2018-03-29\", \"2018-04-03\", \"2018-04-04\", \"2018-04-05\", \"2018-04-06\", \"2018-04-09\", \"2018-04-10\", \"2018-04-11\", \"2018-04-12\", \"2018-04-13\", \"2018-04-16\", \"2018-04-17\", \"2018-04-18\", \"2018-04-19\", \"2018-04-20\", \"2018-04-23\", \"2018-04-24\", \"2018-04-26\", \"2018-04-27\", \"2018-04-30\", \"2018-05-01\", \"2018-05-02\", \"2018-05-03\", \"2018-05-04\", \"2018-05-07\", \"2018-05-08\", \"2018-05-09\", \"2018-05-10\", \"2018-05-11\", \"2018-05-14\", \"2018-05-15\", \"2018-05-16\", \"2018-05-17\", \"2018-05-18\", \"2018-05-21\", \"2018-05-22\", \"2018-05-23\", \"2018-05-24\", \"2018-05-25\", \"2018-05-28\", \"2018-05-29\", \"2018-05-30\", \"2018-05-31\", \"2018-06-01\", \"2018-06-04\", \"2018-06-05\", \"2018-06-06\", \"2018-06-07\", \"2018-06-08\", \"2018-06-12\", \"2018-06-13\", \"2018-06-14\", \"2018-06-15\", \"2018-06-18\", \"2018-06-19\", \"2018-06-20\", \"2018-06-21\", \"2018-06-22\", \"2018-06-25\", \"2018-06-26\", \"2018-06-27\", \"2018-06-28\", \"2018-06-29\", \"2018-07-02\", \"2018-07-03\", \"2018-07-04\", \"2018-07-05\", \"2018-07-06\", \"2018-07-09\", \"2018-07-10\", \"2018-07-11\", \"2018-07-12\", \"2018-07-13\", \"2018-07-16\", \"2018-07-17\", \"2018-07-18\", \"2018-07-19\", \"2018-07-20\", \"2018-07-23\", \"2018-07-24\", \"2018-07-25\", \"2018-07-26\", \"2018-07-27\", \"2018-07-30\", \"2018-07-31\", \"2018-08-01\", \"2018-08-02\", \"2018-08-03\", \"2018-08-06\", \"2018-08-07\", \"2018-08-08\", \"2018-08-09\", \"2018-08-10\", \"2018-08-13\", \"2018-08-14\", \"2018-08-15\", \"2018-08-16\", \"2018-08-17\", \"2018-08-20\", \"2018-08-21\", \"2018-08-22\", \"2018-08-23\", \"2018-08-24\", \"2018-08-27\", \"2018-08-28\", \"2018-08-29\", \"2018-08-30\", \"2018-08-31\", \"2018-09-03\", \"2018-09-04\", \"2018-09-05\", \"2018-09-06\", \"2018-09-07\", \"2018-09-10\", \"2018-09-11\", \"2018-09-12\", \"2018-09-13\", \"2018-09-14\", \"2018-09-17\", \"2018-09-18\", \"2018-09-19\", \"2018-09-20\", \"2018-09-21\", \"2018-09-24\", \"2018-09-25\", \"2018-09-26\", \"2018-09-27\", \"2018-09-28\", \"2018-10-01\", \"2018-10-02\", \"2018-10-03\", \"2018-10-04\", \"2018-10-05\", \"2018-10-08\", \"2018-10-09\", \"2018-10-10\", \"2018-10-11\", \"2018-10-12\", \"2018-10-15\", \"2018-10-16\", \"2018-10-17\", \"2018-10-18\", \"2018-10-19\", \"2018-10-22\", \"2018-10-23\", \"2018-10-24\", \"2018-10-25\", \"2018-10-26\", \"2018-10-29\", \"2018-10-30\", \"2018-10-31\", \"2018-11-01\", \"2018-11-02\", \"2018-11-05\", \"2018-11-06\", \"2018-11-07\", \"2018-11-08\", \"2018-11-09\", \"2018-11-12\", \"2018-11-13\", \"2018-11-14\", \"2018-11-15\", \"2018-11-16\", \"2018-11-19\", \"2018-11-20\", \"2018-11-21\", \"2018-11-22\", \"2018-11-23\", \"2018-11-26\", \"2018-11-27\", \"2018-11-28\", \"2018-11-29\", \"2018-11-30\", \"2018-12-03\", \"2018-12-04\", \"2018-12-05\", \"2018-12-06\", \"2018-12-07\", \"2018-12-10\", \"2018-12-11\", \"2018-12-12\", \"2018-12-13\", \"2018-12-14\", \"2018-12-17\", \"2018-12-18\", \"2018-12-19\", \"2018-12-20\", \"2018-12-21\", \"2018-12-24\", \"2018-12-27\", \"2018-12-28\", \"2018-12-31\", \"2019-01-02\", \"2019-01-03\", \"2019-01-04\", \"2019-01-07\", \"2019-01-08\", \"2019-01-09\", \"2019-01-10\", \"2019-01-11\", \"2019-01-14\", \"2019-01-15\", \"2019-01-16\", \"2019-01-17\", \"2019-01-18\", \"2019-01-21\", \"2019-01-22\", \"2019-01-23\", \"2019-01-24\", \"2019-01-25\", \"2019-01-29\", \"2019-01-30\", \"2019-01-31\", \"2019-02-01\", \"2019-02-04\", \"2019-02-05\", \"2019-02-06\", \"2019-02-07\", \"2019-02-08\", \"2019-02-11\", \"2019-02-12\", \"2019-02-13\", \"2019-02-14\", \"2019-02-15\", \"2019-02-18\", \"2019-02-19\", \"2019-02-20\", \"2019-02-21\", \"2019-02-22\", \"2019-02-25\", \"2019-02-26\", \"2019-02-27\", \"2019-02-28\", \"2019-03-01\", \"2019-03-04\", \"2019-03-05\", \"2019-03-06\", \"2019-03-07\", \"2019-03-08\", \"2019-03-11\", \"2019-03-12\", \"2019-03-13\", \"2019-03-14\", \"2019-03-15\", \"2019-03-18\", \"2019-03-19\", \"2019-03-20\", \"2019-03-21\", \"2019-03-22\", \"2019-03-25\", \"2019-03-26\", \"2019-03-27\", \"2019-03-28\", \"2019-03-29\", \"2019-04-01\", \"2019-04-02\", \"2019-04-03\", \"2019-04-04\", \"2019-04-05\", \"2019-04-08\", \"2019-04-09\", \"2019-04-10\", \"2019-04-11\", \"2019-04-12\", \"2019-04-15\", \"2019-04-16\", \"2019-04-17\", \"2019-04-18\", \"2019-04-23\", \"2019-04-24\", \"2019-04-26\", \"2019-04-29\", \"2019-04-30\", \"2019-05-01\", \"2019-05-02\", \"2019-05-03\", \"2019-05-06\", \"2019-05-07\", \"2019-05-08\", \"2019-05-09\", \"2019-05-10\", \"2019-05-13\", \"2019-05-14\", \"2019-05-15\", \"2019-05-16\", \"2019-05-17\", \"2019-05-20\", \"2019-05-21\", \"2019-05-22\", \"2019-05-23\", \"2019-05-24\", \"2019-05-27\", \"2019-05-28\", \"2019-05-29\", \"2019-05-30\", \"2019-05-31\", \"2019-06-03\", \"2019-06-04\", \"2019-06-05\", \"2019-06-06\", \"2019-06-07\", \"2019-06-11\", \"2019-06-12\", \"2019-06-13\", \"2019-06-14\", \"2019-06-17\", \"2019-06-18\", \"2019-06-19\", \"2019-06-20\", \"2019-06-21\", \"2019-06-24\", \"2019-06-25\", \"2019-06-26\", \"2019-06-27\", \"2019-06-28\", \"2019-07-01\", \"2019-07-02\", \"2019-07-03\", \"2019-07-04\", \"2019-07-05\", \"2019-07-08\", \"2019-07-09\", \"2019-07-10\", \"2019-07-11\", \"2019-07-12\", \"2019-07-15\", \"2019-07-16\", \"2019-07-17\", \"2019-07-18\", \"2019-07-19\", \"2019-07-22\", \"2019-07-23\", \"2019-07-24\", \"2019-07-25\", \"2019-07-26\", \"2019-07-29\", \"2019-07-30\", \"2019-07-31\", \"2019-08-01\", \"2019-08-02\", \"2019-08-05\", \"2019-08-06\", \"2019-08-07\", \"2019-08-08\", \"2019-08-09\", \"2019-08-12\", \"2019-08-13\", \"2019-08-14\", \"2019-08-15\", \"2019-08-16\", \"2019-08-19\", \"2019-08-20\", \"2019-08-21\", \"2019-08-22\", \"2019-08-23\", \"2019-08-26\", \"2019-08-27\", \"2019-08-28\", \"2019-08-29\", \"2019-08-30\", \"2019-09-02\", \"2019-09-03\", \"2019-09-04\", \"2019-09-05\", \"2019-09-06\", \"2019-09-09\", \"2019-09-10\", \"2019-09-11\", \"2019-09-12\", \"2019-09-13\", \"2019-09-16\", \"2019-09-17\", \"2019-09-18\", \"2019-09-19\", \"2019-09-20\", \"2019-09-23\", \"2019-09-24\", \"2019-09-25\", \"2019-09-26\", \"2019-09-27\", \"2019-09-30\", \"2019-10-01\", \"2019-10-02\", \"2019-10-03\", \"2019-10-04\", \"2019-10-07\", \"2019-10-08\", \"2019-10-09\", \"2019-10-10\", \"2019-10-11\", \"2019-10-14\", \"2019-10-15\", \"2019-10-16\", \"2019-10-17\", \"2019-10-18\", \"2019-10-21\", \"2019-10-22\", \"2019-10-23\", \"2019-10-24\", \"2019-10-25\", \"2019-10-28\", \"2019-10-29\", \"2019-10-30\", \"2019-10-31\", \"2019-11-01\", \"2019-11-04\", \"2019-11-05\", \"2019-11-06\", \"2019-11-07\", \"2019-11-08\", \"2019-11-11\", \"2019-11-12\", \"2019-11-13\", \"2019-11-14\", \"2019-11-15\", \"2019-11-18\", \"2019-11-19\", \"2019-11-20\", \"2019-11-21\", \"2019-11-22\", \"2019-11-25\", \"2019-11-26\", \"2019-11-27\", \"2019-11-28\", \"2019-11-29\", \"2019-12-02\", \"2019-12-03\", \"2019-12-04\", \"2019-12-05\", \"2019-12-06\", \"2019-12-09\", \"2019-12-10\", \"2019-12-11\", \"2019-12-12\", \"2019-12-13\", \"2019-12-16\", \"2019-12-17\", \"2019-12-18\", \"2019-12-19\", \"2019-12-20\", \"2019-12-23\", \"2019-12-24\", \"2019-12-27\", \"2019-12-30\", \"2019-12-31\", \"2020-01-02\", \"2020-01-03\", \"2020-01-06\", \"2020-01-07\", \"2020-01-08\", \"2020-01-09\", \"2020-01-10\", \"2020-01-13\", \"2020-01-14\", \"2020-01-15\", \"2020-01-16\", \"2020-01-17\", \"2020-01-20\", \"2020-01-21\", \"2020-01-22\", \"2020-01-23\", \"2020-01-24\", \"2020-01-28\", \"2020-01-29\", \"2020-01-30\", \"2020-01-31\", \"2020-02-03\", \"2020-02-04\", \"2020-02-05\", \"2020-02-06\", \"2020-02-07\", \"2020-02-10\", \"2020-02-11\", \"2020-02-12\", \"2020-02-13\", \"2020-02-14\", \"2020-02-17\", \"2020-02-18\", \"2020-02-19\", \"2020-02-20\", \"2020-02-21\", \"2020-02-24\", \"2020-02-25\", \"2020-02-26\", \"2020-02-27\", \"2020-02-28\", \"2020-03-02\", \"2020-03-03\", \"2020-03-04\", \"2020-03-05\", \"2020-03-06\", \"2020-03-09\", \"2020-03-10\", \"2020-03-11\", \"2020-03-12\", \"2020-03-13\", \"2020-03-16\", \"2020-03-17\", \"2020-03-18\", \"2020-03-19\", \"2020-03-20\", \"2020-03-23\", \"2020-03-24\", \"2020-03-25\", \"2020-03-26\", \"2020-03-27\", \"2020-03-30\", \"2020-03-31\", \"2020-04-01\", \"2020-04-02\", \"2020-04-03\", \"2020-04-06\", \"2020-04-07\", \"2020-04-08\", \"2020-04-09\", \"2020-04-14\", \"2020-04-15\", \"2020-04-16\", \"2020-04-17\", \"2020-04-20\", \"2020-04-21\", \"2020-04-22\", \"2020-04-23\", \"2020-04-24\", \"2020-04-27\", \"2020-04-28\", \"2020-04-29\", \"2020-04-30\", \"2020-05-01\", \"2020-05-04\", \"2020-05-05\", \"2020-05-06\", \"2020-05-07\", \"2020-05-08\", \"2020-05-11\", \"2020-05-12\", \"2020-05-13\", \"2020-05-14\", \"2020-05-15\", \"2020-05-18\", \"2020-05-19\", \"2020-05-20\", \"2020-05-21\", \"2020-05-22\", \"2020-05-25\", \"2020-05-26\", \"2020-05-27\", \"2020-05-28\", \"2020-05-29\", \"2020-06-01\", \"2020-06-02\", \"2020-06-03\", \"2020-06-04\", \"2020-06-05\", \"2020-06-09\", \"2020-06-10\", \"2020-06-11\", \"2020-06-12\", \"2020-06-15\", \"2020-06-16\", \"2020-06-17\", \"2020-06-18\", \"2020-06-19\", \"2020-06-22\", \"2020-06-23\", \"2020-06-24\", \"2020-06-25\", \"2020-06-26\", \"2020-06-29\", \"2020-06-30\", \"2020-07-01\", \"2020-07-02\", \"2020-07-03\", \"2020-07-06\", \"2020-07-07\", \"2020-07-08\", \"2020-07-09\", \"2020-07-10\", \"2020-07-13\", \"2020-07-14\", \"2020-07-15\", \"2020-07-16\", \"2020-07-17\", \"2020-07-20\", \"2020-07-21\", \"2020-07-22\", \"2020-07-23\", \"2020-07-24\", \"2020-07-27\", \"2020-07-28\", \"2020-07-29\", \"2020-07-30\", \"2020-07-31\", \"2020-08-03\", \"2020-08-04\", \"2020-08-05\", \"2020-08-06\", \"2020-08-07\", \"2020-08-10\", \"2020-08-11\", \"2020-08-12\", \"2020-08-13\", \"2020-08-14\", \"2020-08-17\", \"2020-08-18\", \"2020-08-19\", \"2020-08-20\", \"2020-08-21\", \"2020-08-24\", \"2020-08-25\", \"2020-08-26\", \"2020-08-27\", \"2020-08-28\", \"2020-08-31\", \"2020-09-01\", \"2020-09-02\", \"2020-09-03\", \"2020-09-04\", \"2020-09-07\", \"2020-09-08\", \"2020-09-09\", \"2020-09-10\", \"2020-09-11\", \"2020-09-14\", \"2020-09-15\", \"2020-09-16\", \"2020-09-17\", \"2020-09-18\", \"2020-09-21\", \"2020-09-22\", \"2020-09-23\", \"2020-09-24\", \"2020-09-25\", \"2020-09-28\", \"2020-09-29\", \"2020-09-30\", \"2020-10-01\", \"2020-10-02\", \"2020-10-05\", \"2020-10-06\", \"2020-10-07\", \"2020-10-08\", \"2020-10-09\", \"2020-10-12\", \"2020-10-13\", \"2020-10-14\", \"2020-10-15\", \"2020-10-16\", \"2020-10-19\", \"2020-10-20\"], \"xaxis\": \"x\", \"y\": [5906.99, 5893.96, 5897.61, 5905.6, 5916.3, 5903.16, 5919.08, 5909.02, 5937.77, 5931.71, 5959.88, 5953.78, 6014.34, 6016.26, 6049.42, 6029.37, 6021.77, 5968.75, 5934.24, 5943.51, 5957.25, 5945.67, 5963.52, 5986.41, 5986.19, 5982.55, 5988.77, 5984.25, 6011.12, 5969.89, 5989.76, 5985.59, 5971.82, 5945.71, 5977.72, 5994.37, 5998.28, 6013.2, 6021.83, 6011.26, 5996.97, 6038.93, 6071.79, 6075.62, 6060.36, 6069.71, 6069.87, 6088.14, 6065.13, 6061.28, 6070.38, 6077.08, 6122.35, 6130.37, 6135.81, 6096.68, 6067.62, 6070.05, 6077.08, 6048.64, 6015.81, 6014.57, 6005.81, 5991.91, 6036.96, 6054.66, 6050.02, 6075.41, 6022.8, 6037.68, 6090.07, 6121.39, 6026.23, 5833.34, 5876.81, 5890.7, 5837.97, 5820.69, 5855.9, 5841.24, 5908.99, 5904.04, 5941.59, 5940.85, 5943.72, 5950.88, 5999.79, 6042.18, 6056.86, 6015.96, 5973.34, 5928.9, 5895.03, 5962.44, 5901.99, 5942.87, 5963.23, 5996.12, 5974.71, 5935.31, 5920.85, 5949.42, 5959.43, 5936.38, 5950.27, 5937.15, 5820.73, 5790.46, 5832.3, 5789.46, 5759.37, 5751.92, 5761.35, 5788.81, 5788.74, 5808.67, 5856.97, 5828.68, 5815.53, 5829.08, 5841.34, 5841.55, 5861.42, 5881.0, 5868.78, 5886.01, 5921.55, 5910.77, 5953.65, 5982.73, 6015.23, 6050.18, 6098.28, 6062.89, 6084.47, 6091.89, 6108.02, 6118.75, 6116.19, 6135.3, 6097.82, 6106.96, 6094.26, 6087.36, 6084.49, 6041.87, 6032.51, 6037.08, 6032.82, 6004.02, 6013.56, 5984.73, 6011.88, 5990.39, 6025.55, 5994.88, 6025.11, 6057.29, 6045.18, 6054.44, 6023.53, 6016.64, 6094.03, 6104.13, 6102.12, 6172.58, 6232.13, 6225.22, 6210.41, 6197.61, 6195.86, 6215.39, 6194.63, 6177.79, 6210.21, 6183.39, 6215.52, 6272.29, 6286.04, 6258.1, 6215.6, 6268.31, 6268.39, 6241.52, 6203.64, 6245.11, 6262.7, 6285.85, 6227.56, 6265.84, 6247.65, 6244.5, 6300.23, 6278.39, 6280.2, 6275.72, 6240.86, 6234.78, 6272.98, 6253.94, 6268.53, 6297.65, 6278.39, 6252.17, 6299.63, 6329.02, 6328.29, 6339.23, 6344.99, 6284.38, 6265.98, 6244.37, 6247.33, 6268.87, 6304.65, 6352.24, 6351.76, 6319.5, 6310.87, 6293.07, 6230.45, 6160.42, 6143.81, 6141.7, 6179.68, 6175.92, 6128.72, 6165.33, 6184.97, 6161.45, 6189.96, 6169.45, 6194.56, 6186.87, 6185.88, 6192.28, 6181.21, 6207.56, 6172.26, 6126.21, 6146.07, 6176.3, 6185.49, 6100.31, 6041.07, 6049.81, 5883.76, 5895.67, 5837.1, 5869.88, 5939.09, 5942.41, 5939.49, 5904.94, 5843.09, 5829.03, 5664.07, 5665.16, 5728.15, 5805.1, 5830.31, 5840.8, 5849.21, 5818.14, 5875.18, 5896.87, 5928.24, 5921.85, 5941.3, 5834.23, 5732.77, 5736.02, 5730.55, 5693.66, 5671.79, 5642.77, 5691.28, 5716.2, 5671.57, 5728.28, 5725.08, 5758.42, 5667.16, 5771.16, 5713.14, 5668.35, 5657.65, 5681.49, 5552.5, 5575.88, 5653.46, 5661.61, 5601.98, 5658.27, 5589.47, 5580.6, 5505.82, 5467.64, 5493.82, 5597.24, 5654.32, 5646.37, 5557.75, 5633.4, 5619.35, 5683.19, 5722.44, 5778.29, 5795.27, 5774.58, 5773.37, 5814.56, 5835.16, 5850.05, 5879.59, 5890.38, 5858.79, 5843.72, 5865.69, 5905.61, 5874.17, 5886.71, 5864.65, 5862.83, 5891.2, 6005.92, 6026.15, 6092.46, 6071.46, 6060.85, 6079.08, 6063.57, 6059.39, 6066.1, 6089.84, 6106.88, 6096.49, 6139.25, 6167.31, 6186.32, 6128.39, 6150.27, 6168.99, 6192.73, 6217.41, 6199.29, 6245.62, 6263.89, 6203.76, 6180.19, 6174.82, 6161.19, 6179.59, 6175.17, 6190.53, 6184.79, 6165.35, 6167.17, 6195.23, 6126.21, 6130.59, 6135.97, 6176.08, 6180.73, 6216.96, 6242.36, 6285.05, 6232.75, 6181.26, 6221.35, 6221.82, 6223.54, 6198.67, 6251.32, 6251.44, 6277.45, 6256.38, 6259.81, 6319.42, 6382.14, 6385.65, 6359.49, 6325.47, 6375.89, 6338.41, 6335.8, 6283.72, 6295.68, 6269.15, 6295.33, 6310.85, 6297.59, 6239.91, 6284.2, 6327.84, 6365.3, 6476.15, 6500.14, 6510.71, 6491.79, 6456.04, 6451.89, 6484.84, 6440.03, 6392.13, 6396.85, 6320.55, 6332.36, 6358.52, 6382.96, 6443.89, 6546.29, 6543.74, 6542.42, 6554.0, 6530.91, 6570.0, 6648.13, 6687.41, 6650.78, 6665.44, 6658.03, 6640.49, 6666.31, 6618.77, 6648.06, 6653.21, 6685.46, 6718.02, 6751.28, 6672.25, 6665.69, 6689.79, 6716.14, 6696.55, 6652.99, 6640.97, 6673.26, 6649.12, 6700.35, 6691.24, 6724.63, 6776.67, 6818.03, 6793.39, 6825.8, 6845.08, 6812.56, 6788.93, 6768.57, 6640.3, 6478.09, 6519.46, 6568.15, 6584.43, 6590.27, 6568.54, 6595.9, 6408.09, 6405.53, 6467.43, 6544.96, 6483.27, 6501.81, 6523.13, 6440.05, 6471.22, 6500.64, 6507.39, 6604.22, 6579.41, 6573.4, 6553.01, 6613.16, 6647.33, 6647.96, 6614.06, 6638.04, 6654.87, 6669.18, 6673.48, 6695.25, 6681.59, 6717.48, 6730.75, 6749.72, 6748.87, 6710.22, 6677.58, 6716.12, 6688.35, 6742.85, 6639.94, 6492.99, 6517.08, 6563.56, 6593.42, 6546.72, 6547.08, 6606.81, 6642.59, 6652.01, 6736.54, 6684.68, 6649.68, 6652.51, 6672.18, 6673.09, 6693.65, 6739.22, 6740.71, 6745.42, 6689.48, 6663.37, 6669.09, 6686.87, 6697.12, 6660.16, 6726.63, 6724.11, 6772.52, 6752.97, 6698.36, 6735.05, 6793.72, 6766.82, 6814.22, 6722.42, 6672.91, 6709.78, 6731.41, 6787.53, 6850.6, 6864.0, 6846.0, 6862.27, 6712.29, 6606.51, 6682.95, 6707.02, 6730.03, 6706.91, 6752.64, 6708.83, 6739.68, 6849.71, 6847.28, 6851.42, 6833.11, 6816.32, 6785.14, 6794.16, 6821.65, 6804.85, 6684.07, 6690.58, 6733.49, 6735.71, 6826.44, 6817.62, 6874.23, 6929.03, 6903.67, 6962.15, 6994.84, 7041.78, 7064.13, 7079.51, 7066.35, 7132.73, 7087.96, 7090.54, 6994.46, 7031.52, 7008.43, 7017.22, 6923.25, 6948.74, 6976.05, 7049.2, 7022.58, 7012.53, 7055.31, 7088.23, 7103.23, 7130.2, 7125.05, 7113.7, 7144.56, 7162.49, 7138.96, 6978.27, 6866.6, 6708.1, 6657.85, 6441.21, 6391.52, 6435.68, 6325.38, 6395.73, 6216.21, 5760.56, 5939.65, 5725.87, 5304.63, 5539.3, 5002.02, 5293.41, 4953.2, 4782.94, 4816.63, 4546.03, 4735.65, 4998.07, 5113.29, 4842.43, 5181.38, 5076.83, 5258.64, 5154.3, 5067.48, 5286.81, 5252.29, 5206.94, 5387.32, 5488.11, 5466.67, 5416.28, 5487.54, 5353.01, 5221.3, 5221.25, 5217.11, 5242.62, 5321.44, 5313.1, 5393.43, 5522.35, 5245.89, 5319.85, 5407.07, 5384.61, 5364.2, 5391.08, 5461.22, 5403.05, 5421.85, 5328.72, 5404.81, 5460.54, 5559.52, 5573.05, 5550.43, 5497.03, 5615.59, 5780.05, 5775.01, 5851.1, 5755.69, 5819.15, 5835.09, 5941.6, 5991.82, 5998.72, 6144.95, 6148.43, 5960.64, 5847.81, 5719.83, 5942.3, 5991.77, 5936.47, 5942.58, 5944.54, 5954.41, 5965.75, 5817.68, 5904.08, 5815.03, 5897.88, 5934.4, 6032.71, 6057.88, 6014.61, 6012.92, 5920.3, 5955.46, 5919.22, 5977.52, 5941.08, 6052.92, 6010.86, 6033.63, 6001.57, 6156.3, 6075.06, 6094.5, 6024.0, 6044.17, 6020.55, 6006.39, 6051.08, 5927.78, 5926.09, 6037.55, 6001.3, 6042.19, 6004.84, 6110.2, 6138.65, 6132.05, 6091.0, 6126.25, 6076.38, 6123.36, 6167.64, 6120.02, 6111.18, 6129.57, 6161.39, 6116.36, 6126.23, 6073.81, 6060.46, 5953.4, 6063.21, 6112.61, 5925.51, 5944.81, 6007.84, 5878.63, 5908.52, 5859.42, 5899.52, 5894.83, 5956.13, 5883.22, 5864.5, 5822.62, 5784.07, 5923.93, 5875.94, 5964.92, 5952.32, 5952.05, 5815.94, 5872.93, 5791.5, 5941.58, 5962.07, 6036.38, 6102.04, 6102.17, 6131.97, 6195.75, 6179.17, 6210.3, 6176.79, 6229.38, 6184.58], \"yaxis\": \"y\"}],                        {\"legend\": {\"tracegroupgap\": 0}, \"margin\": {\"t\": 60}, \"template\": {\"data\": {\"bar\": [{\"error_x\": {\"color\": \"#2a3f5f\"}, \"error_y\": {\"color\": \"#2a3f5f\"}, \"marker\": {\"line\": {\"color\": \"#E5ECF6\", \"width\": 0.5}}, \"type\": \"bar\"}], \"barpolar\": [{\"marker\": {\"line\": {\"color\": \"#E5ECF6\", \"width\": 0.5}}, \"type\": \"barpolar\"}], \"carpet\": [{\"aaxis\": {\"endlinecolor\": \"#2a3f5f\", \"gridcolor\": \"white\", \"linecolor\": \"white\", \"minorgridcolor\": \"white\", \"startlinecolor\": \"#2a3f5f\"}, \"baxis\": {\"endlinecolor\": \"#2a3f5f\", \"gridcolor\": \"white\", \"linecolor\": \"white\", \"minorgridcolor\": \"white\", \"startlinecolor\": \"#2a3f5f\"}, \"type\": \"carpet\"}], \"choropleth\": [{\"colorbar\": {\"outlinewidth\": 0, \"ticks\": \"\"}, \"type\": \"choropleth\"}], \"contour\": [{\"colorbar\": {\"outlinewidth\": 0, \"ticks\": \"\"}, \"colorscale\": [[0.0, \"#0d0887\"], [0.1111111111111111, \"#46039f\"], [0.2222222222222222, \"#7201a8\"], [0.3333333333333333, \"#9c179e\"], [0.4444444444444444, \"#bd3786\"], [0.5555555555555556, \"#d8576b\"], [0.6666666666666666, \"#ed7953\"], [0.7777777777777778, \"#fb9f3a\"], [0.8888888888888888, \"#fdca26\"], [1.0, \"#f0f921\"]], \"type\": \"contour\"}], \"contourcarpet\": [{\"colorbar\": {\"outlinewidth\": 0, \"ticks\": \"\"}, \"type\": \"contourcarpet\"}], \"heatmap\": [{\"colorbar\": {\"outlinewidth\": 0, \"ticks\": \"\"}, \"colorscale\": [[0.0, \"#0d0887\"], [0.1111111111111111, \"#46039f\"], [0.2222222222222222, \"#7201a8\"], [0.3333333333333333, \"#9c179e\"], [0.4444444444444444, \"#bd3786\"], [0.5555555555555556, \"#d8576b\"], [0.6666666666666666, \"#ed7953\"], [0.7777777777777778, \"#fb9f3a\"], [0.8888888888888888, \"#fdca26\"], [1.0, \"#f0f921\"]], \"type\": \"heatmap\"}], \"heatmapgl\": [{\"colorbar\": {\"outlinewidth\": 0, \"ticks\": \"\"}, \"colorscale\": [[0.0, \"#0d0887\"], [0.1111111111111111, \"#46039f\"], [0.2222222222222222, \"#7201a8\"], [0.3333333333333333, \"#9c179e\"], [0.4444444444444444, \"#bd3786\"], [0.5555555555555556, \"#d8576b\"], [0.6666666666666666, \"#ed7953\"], [0.7777777777777778, \"#fb9f3a\"], [0.8888888888888888, \"#fdca26\"], [1.0, \"#f0f921\"]], \"type\": \"heatmapgl\"}], \"histogram\": [{\"marker\": {\"colorbar\": {\"outlinewidth\": 0, \"ticks\": \"\"}}, \"type\": \"histogram\"}], \"histogram2d\": [{\"colorbar\": {\"outlinewidth\": 0, \"ticks\": \"\"}, \"colorscale\": [[0.0, \"#0d0887\"], [0.1111111111111111, \"#46039f\"], [0.2222222222222222, \"#7201a8\"], [0.3333333333333333, \"#9c179e\"], [0.4444444444444444, \"#bd3786\"], [0.5555555555555556, \"#d8576b\"], [0.6666666666666666, \"#ed7953\"], [0.7777777777777778, \"#fb9f3a\"], [0.8888888888888888, \"#fdca26\"], [1.0, \"#f0f921\"]], \"type\": \"histogram2d\"}], \"histogram2dcontour\": [{\"colorbar\": {\"outlinewidth\": 0, \"ticks\": \"\"}, \"colorscale\": [[0.0, \"#0d0887\"], [0.1111111111111111, \"#46039f\"], [0.2222222222222222, \"#7201a8\"], [0.3333333333333333, \"#9c179e\"], [0.4444444444444444, \"#bd3786\"], [0.5555555555555556, \"#d8576b\"], [0.6666666666666666, \"#ed7953\"], [0.7777777777777778, \"#fb9f3a\"], [0.8888888888888888, \"#fdca26\"], [1.0, \"#f0f921\"]], \"type\": \"histogram2dcontour\"}], \"mesh3d\": [{\"colorbar\": {\"outlinewidth\": 0, \"ticks\": \"\"}, \"type\": \"mesh3d\"}], \"parcoords\": [{\"line\": {\"colorbar\": {\"outlinewidth\": 0, \"ticks\": \"\"}}, \"type\": \"parcoords\"}], \"pie\": [{\"automargin\": true, \"type\": \"pie\"}], \"scatter\": [{\"marker\": {\"colorbar\": {\"outlinewidth\": 0, \"ticks\": \"\"}}, \"type\": \"scatter\"}], \"scatter3d\": [{\"line\": {\"colorbar\": {\"outlinewidth\": 0, \"ticks\": \"\"}}, \"marker\": {\"colorbar\": {\"outlinewidth\": 0, \"ticks\": \"\"}}, \"type\": \"scatter3d\"}], \"scattercarpet\": [{\"marker\": {\"colorbar\": {\"outlinewidth\": 0, \"ticks\": \"\"}}, \"type\": \"scattercarpet\"}], \"scattergeo\": [{\"marker\": {\"colorbar\": {\"outlinewidth\": 0, \"ticks\": \"\"}}, \"type\": \"scattergeo\"}], \"scattergl\": [{\"marker\": {\"colorbar\": {\"outlinewidth\": 0, \"ticks\": \"\"}}, \"type\": \"scattergl\"}], \"scattermapbox\": [{\"marker\": {\"colorbar\": {\"outlinewidth\": 0, \"ticks\": \"\"}}, \"type\": \"scattermapbox\"}], \"scatterpolar\": [{\"marker\": {\"colorbar\": {\"outlinewidth\": 0, \"ticks\": \"\"}}, \"type\": \"scatterpolar\"}], \"scatterpolargl\": [{\"marker\": {\"colorbar\": {\"outlinewidth\": 0, \"ticks\": \"\"}}, \"type\": \"scatterpolargl\"}], \"scatterternary\": [{\"marker\": {\"colorbar\": {\"outlinewidth\": 0, \"ticks\": \"\"}}, \"type\": \"scatterternary\"}], \"surface\": [{\"colorbar\": {\"outlinewidth\": 0, \"ticks\": \"\"}, \"colorscale\": [[0.0, \"#0d0887\"], [0.1111111111111111, \"#46039f\"], [0.2222222222222222, \"#7201a8\"], [0.3333333333333333, \"#9c179e\"], [0.4444444444444444, \"#bd3786\"], [0.5555555555555556, \"#d8576b\"], [0.6666666666666666, \"#ed7953\"], [0.7777777777777778, \"#fb9f3a\"], [0.8888888888888888, \"#fdca26\"], [1.0, \"#f0f921\"]], \"type\": \"surface\"}], \"table\": [{\"cells\": {\"fill\": {\"color\": \"#EBF0F8\"}, \"line\": {\"color\": \"white\"}}, \"header\": {\"fill\": {\"color\": \"#C8D4E3\"}, \"line\": {\"color\": \"white\"}}, \"type\": \"table\"}]}, \"layout\": {\"annotationdefaults\": {\"arrowcolor\": \"#2a3f5f\", \"arrowhead\": 0, \"arrowwidth\": 1}, \"coloraxis\": {\"colorbar\": {\"outlinewidth\": 0, \"ticks\": \"\"}}, \"colorscale\": {\"diverging\": [[0, \"#8e0152\"], [0.1, \"#c51b7d\"], [0.2, \"#de77ae\"], [0.3, \"#f1b6da\"], [0.4, \"#fde0ef\"], [0.5, \"#f7f7f7\"], [0.6, \"#e6f5d0\"], [0.7, \"#b8e186\"], [0.8, \"#7fbc41\"], [0.9, \"#4d9221\"], [1, \"#276419\"]], \"sequential\": [[0.0, \"#0d0887\"], [0.1111111111111111, \"#46039f\"], [0.2222222222222222, \"#7201a8\"], [0.3333333333333333, \"#9c179e\"], [0.4444444444444444, \"#bd3786\"], [0.5555555555555556, \"#d8576b\"], [0.6666666666666666, \"#ed7953\"], [0.7777777777777778, \"#fb9f3a\"], [0.8888888888888888, \"#fdca26\"], [1.0, \"#f0f921\"]], \"sequentialminus\": [[0.0, \"#0d0887\"], [0.1111111111111111, \"#46039f\"], [0.2222222222222222, \"#7201a8\"], [0.3333333333333333, \"#9c179e\"], [0.4444444444444444, \"#bd3786\"], [0.5555555555555556, \"#d8576b\"], [0.6666666666666666, \"#ed7953\"], [0.7777777777777778, \"#fb9f3a\"], [0.8888888888888888, \"#fdca26\"], [1.0, \"#f0f921\"]]}, \"colorway\": [\"#636efa\", \"#EF553B\", \"#00cc96\", \"#ab63fa\", \"#FFA15A\", \"#19d3f3\", \"#FF6692\", \"#B6E880\", \"#FF97FF\", \"#FECB52\"], \"font\": {\"color\": \"#2a3f5f\"}, \"geo\": {\"bgcolor\": \"white\", \"lakecolor\": \"white\", \"landcolor\": \"#E5ECF6\", \"showlakes\": true, \"showland\": true, \"subunitcolor\": \"white\"}, \"hoverlabel\": {\"align\": \"left\"}, \"hovermode\": \"closest\", \"mapbox\": {\"style\": \"light\"}, \"paper_bgcolor\": \"white\", \"plot_bgcolor\": \"#E5ECF6\", \"polar\": {\"angularaxis\": {\"gridcolor\": \"white\", \"linecolor\": \"white\", \"ticks\": \"\"}, \"bgcolor\": \"#E5ECF6\", \"radialaxis\": {\"gridcolor\": \"white\", \"linecolor\": \"white\", \"ticks\": \"\"}}, \"scene\": {\"xaxis\": {\"backgroundcolor\": \"#E5ECF6\", \"gridcolor\": \"white\", \"gridwidth\": 2, \"linecolor\": \"white\", \"showbackground\": true, \"ticks\": \"\", \"zerolinecolor\": \"white\"}, \"yaxis\": {\"backgroundcolor\": \"#E5ECF6\", \"gridcolor\": \"white\", \"gridwidth\": 2, \"linecolor\": \"white\", \"showbackground\": true, \"ticks\": \"\", \"zerolinecolor\": \"white\"}, \"zaxis\": {\"backgroundcolor\": \"#E5ECF6\", \"gridcolor\": \"white\", \"gridwidth\": 2, \"linecolor\": \"white\", \"showbackground\": true, \"ticks\": \"\", \"zerolinecolor\": \"white\"}}, \"shapedefaults\": {\"line\": {\"color\": \"#2a3f5f\"}}, \"ternary\": {\"aaxis\": {\"gridcolor\": \"white\", \"linecolor\": \"white\", \"ticks\": \"\"}, \"baxis\": {\"gridcolor\": \"white\", \"linecolor\": \"white\", \"ticks\": \"\"}, \"bgcolor\": \"#E5ECF6\", \"caxis\": {\"gridcolor\": \"white\", \"linecolor\": \"white\", \"ticks\": \"\"}}, \"title\": {\"x\": 0.05}, \"xaxis\": {\"automargin\": true, \"gridcolor\": \"white\", \"linecolor\": \"white\", \"ticks\": \"\", \"title\": {\"standoff\": 15}, \"zerolinecolor\": \"white\", \"zerolinewidth\": 2}, \"yaxis\": {\"automargin\": true, \"gridcolor\": \"white\", \"linecolor\": \"white\", \"ticks\": \"\", \"title\": {\"standoff\": 15}, \"zerolinecolor\": \"white\", \"zerolinewidth\": 2}}}, \"xaxis\": {\"anchor\": \"y\", \"domain\": [0.0, 1.0], \"title\": {\"text\": \"Effective date\"}}, \"yaxis\": {\"anchor\": \"x\", \"domain\": [0.0, 1.0], \"title\": {\"text\": \"S&P/ASX 200\"}}},                        {\"responsive\": true}                    ).then(function(){\n                            \nvar gd = document.getElementById('0964b6e5-98a2-4175-b48c-010baad194b7');\nvar x = new MutationObserver(function (mutations, observer) {{\n        var display = window.getComputedStyle(gd).display;\n        if (!display || display === 'none') {{\n            console.log([gd, 'removed!']);\n            Plotly.purge(gd);\n            observer.disconnect();\n        }}\n}});\n\n// Listen for the removal of the full notebook cells\nvar notebookContainer = gd.closest('#notebook-container');\nif (notebookContainer) {{\n    x.observe(notebookContainer, {childList: true});\n}}\n\n// Listen for the clearing of the current output cell\nvar outputEl = gd.closest('.output');\nif (outputEl) {{\n    x.observe(outputEl, {childList: true});\n}}\n\n                        })                };                });            </script>        </div>"
     },
     "metadata": {},
     "output_type": "display_data"
    }
   ],
   "source": [
    "index = pd.read_sql_query(\"SELECT * FROM ASX200_index \", con=mydb)\n",
    "import plotly.express as px\n",
    "\n",
    "df = index\n",
    "fig = px.line(df, x='Effective date', y=\"S&P/ASX 200\")\n",
    "fig.show()"
   ],
   "metadata": {
    "collapsed": false,
    "pycharm": {
     "name": "#%% ##\n"
    }
   }
  }
 ],
 "metadata": {
  "kernelspec": {
   "name": "python3",
   "language": "python",
   "display_name": "Python 3"
  },
  "language_info": {
   "codemirror_mode": {
    "name": "ipython",
    "version": 2
   },
   "file_extension": ".py",
   "mimetype": "text/x-python",
   "name": "python",
   "nbconvert_exporter": "python",
   "pygments_lexer": "ipython2",
   "version": "2.7.6"
  }
 },
 "nbformat": 4,
 "nbformat_minor": 0
}