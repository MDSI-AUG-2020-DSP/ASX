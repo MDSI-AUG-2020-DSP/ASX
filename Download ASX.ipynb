{
 "cells": [
  {
   "cell_type": "code",
   "execution_count": 9,
   "metadata": {},
   "outputs": [
    {
     "ename": "ModuleNotFoundError",
     "evalue": "No module named 'sqlalchemy'",
     "output_type": "error",
     "traceback": [
      "\u001B[0;31m---------------------------------------------------------------------------\u001B[0m",
      "\u001B[0;31mModuleNotFoundError\u001B[0m                       Traceback (most recent call last)",
      "\u001B[0;32m<ipython-input-9-f164cac784d7>\u001B[0m in \u001B[0;36m<module>\u001B[0;34m\u001B[0m\n\u001B[1;32m      4\u001B[0m \u001B[0;32mimport\u001B[0m \u001B[0mdatetime\u001B[0m\u001B[0;34m\u001B[0m\u001B[0;34m\u001B[0m\u001B[0m\n\u001B[1;32m      5\u001B[0m \u001B[0;32mimport\u001B[0m \u001B[0murllib\u001B[0m\u001B[0;34m\u001B[0m\u001B[0;34m\u001B[0m\u001B[0m\n\u001B[0;32m----> 6\u001B[0;31m \u001B[0;32mfrom\u001B[0m \u001B[0msqlalchemy\u001B[0m \u001B[0;32mimport\u001B[0m \u001B[0mcreate_engine\u001B[0m\u001B[0;34m\u001B[0m\u001B[0;34m\u001B[0m\u001B[0m\n\u001B[0m\u001B[1;32m      7\u001B[0m \u001B[0;32mimport\u001B[0m \u001B[0msys\u001B[0m\u001B[0;34m\u001B[0m\u001B[0;34m\u001B[0m\u001B[0m\n\u001B[1;32m      8\u001B[0m \u001B[0;31m# Input User id\u001B[0m\u001B[0;34m\u001B[0m\u001B[0;34m\u001B[0m\u001B[0;34m\u001B[0m\u001B[0m\n",
      "\u001B[0;31mModuleNotFoundError\u001B[0m: No module named 'sqlalchemy'"
     ]
    }
   ],
   "source": [
    "import pandas as pd\n",
    "import getpass\n",
    "from functions import connect_mysql, mysql_list\n",
    "import datetime\n",
    "import urllib\n",
    "from sqlalchemy import create_engine\n",
    "import sys\n",
    "# Input User id\n",
    "try:\n",
    "    # password input hashed\n",
    "    id = getpass.getpass(\"id: \") \n",
    "except Exception as ex:\n",
    "    print('Error Occured : ', ex)\n",
    "#Input password\n",
    "try:\n",
    "    # password input hashed\n",
    "    pwd = getpass.getpass(\"password: \") \n",
    "except Exception as ex:\n",
    "    print('Error Occured : ', ex)\n",
    "\n",
    "#host for RDS connection\n",
    "host = \"mdsi-dsp-spr-2020.cehiwpryiego.ap-southeast-2.rds.amazonaws.com\"\n",
    "mydb = connect_mysql(host, id, pwd)\n",
    "\n",
    "if mydb: \n",
    "    print(\"Connection Successful\")"
   ]
  },
  {
   "cell_type": "code",
   "execution_count": null,
   "metadata": {},
   "outputs": [],
   "source": [
    "#today in date format\n",
    "today = datetime.date.today()\n",
    "#today in datetime format\n",
    "today = datetime.datetime(\n",
    "        year = today.year, \n",
    "        month = today.month,\n",
    "        day = today.day ,\n",
    "        hour = 11)\n",
    "period1 = int((today - datetime.timedelta(days = 5)).timestamp()) # 7 days of data\n",
    "# period1 = int(today.replace(year = today.year - 7).timestamp()) # 7 years of data\n",
    "period2 = int(today.timestamp())\n",
    "\n",
    "print(\"Period1 : %s\" % period1)\n",
    "print(\"Period2 : %s\" % period2)\n",
    "\n",
    "params = {\"period1\": period1,\n",
    "          \"period2\": period2,\n",
    "          \"interveral\": \"1d\", # daily price\n",
    "          \"events\": \"history\"\n",
    "}"
   ]
  },
  {
   "cell_type": "code",
   "execution_count": null,
   "metadata": {},
   "outputs": [],
   "source": [
    "db = \"asx\"\n",
    "mydb = connect_mysql(host, id, pwd, db)\n",
    "df = pd.read_sql_query(\"SELECT Code FROM asx200\", con=mydb)\n",
    "\n",
    "k = df.Code\n",
    "v = (df.Code+ \".AX\").tolist()\n",
    "# Create dictionary based on ASX code & yahoo code\n",
    "asx_index = dict(zip(k, v))\n",
    "# Add \n",
    "asx_index[\"AXJO\"] = \"^AXJO\" "
   ]
  },
  {
   "cell_type": "code",
   "execution_count": null,
   "metadata": {},
   "outputs": [],
   "source": [
    "# create blank dataframe for data     \n",
    "asx = pd.DataFrame(columns=[\"Code\", 'Date','Open','High','Low','Close','Adj Close','Volume'])\n",
    "\n",
    "    \n",
    "for key, value in asx_index.items():\n",
    "    # url for file download request\n",
    "    url = \"https://query1.finance.yahoo.com/v7/finance/download/%s?%s\" %(value, urllib.parse.urlencode(params))\n",
    "    print(\"Downloading %s: %s\" %(list(asx_index.keys()).index(key)+1, key), end=\"\\r\")\n",
    "    with urllib.request.urlopen(url) as f:\n",
    "        temp = pd.read_csv(f)\n",
    "    temp['Code'] = key\n",
    "    asx = asx.append(temp)\n",
    "asx = asx.dropna()\n",
    "print(\"Download Successful  \", end = \"\\r\")\n"
   ]
  },
  {
   "cell_type": "code",
   "execution_count": null,
   "metadata": {},
   "outputs": [],
   "source": [
    "mydb = connect_mysql(host, id, pwd, db)\n",
    "mycursor = mydb.cursor()\n",
    "nrow = pd.read_sql_query(\"SELECT COUNT(*) FROM asx_history\" , con=mydb).iloc[0,0]\n",
    "\n",
    "try:\n",
    "    engine = create_engine('mysql+mysqlconnector://%s:%s@%s:%s/%s' % (id, pwd, host, 3306, db), echo=False)\n",
    "    asx.to_sql('asx_history', con=engine, if_exists = 'append', index=False)\n",
    "except:\n",
    "    for i in range(len(asx)):\n",
    "        sql = \"INSERT IGNORE INTO asx_history VALUES (%s, %s, %s, %s, %s, %s, %s, %s)\"\n",
    "        print(\"Updating %s of %s\" %(i+1, len(asx)), end=\"\\r\")\n",
    "        val = list(map(lambda x: str(x), asx.iloc[i,:].values.tolist()))\n",
    "        try:\n",
    "            mycursor.execute(sql, val)\n",
    "            mydb.commit()\n",
    "        except Exception as e:\n",
    "            print(e)\n",
    "\n",
    "rows_updated = pd.read_sql_query(\"SELECT COUNT(*) FROM asx_history\" , con=mydb).iloc[0,0] - nrow\n",
    "print(\"%s row(s) in asx_history are Updated\" % (rows_updated) , end = \"\\r\")"
   ]
  }
 ],
 "metadata": {
  "kernelspec": {
   "display_name": "Python 3",
   "language": "python",
   "name": "python3"
  },
  "language_info": {
   "codemirror_mode": {
    "name": "ipython",
    "version": 3
   },
   "file_extension": ".py",
   "mimetype": "text/x-python",
   "name": "python",
   "nbconvert_exporter": "python",
   "pygments_lexer": "ipython3",
   "version": "3.8.3"
  }
 },
 "nbformat": 4,
 "nbformat_minor": 4
}